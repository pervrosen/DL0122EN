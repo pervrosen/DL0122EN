{
 "cells": [
  {
   "cell_type": "markdown",
   "metadata": {},
   "source": [
    "<a href=\"https://www.bigdatauniversity.com\"><img src=\"https://ibm.box.com/shared/static/qo20b88v1hbjztubt06609ovs85q8fau.png\" width=\"400px\" align=\"center\"></a>\n",
    "\n",
    "<h1 align=\"center\"><font size=\"5\">RECURRENT NETWORKS and LSTM IN DEEP LEARNING</font></h1>"
   ]
  },
  {
   "cell_type": "markdown",
   "metadata": {},
   "source": [
    "<h2>Applying Recurrent Neural Networks/LSTM for Language Modeling</h2>\n",
    "Hello and welcome to this part. In this notebook, we will go over the topic of Language Modelling, and create a Recurrent Neural Network model based on the Long Short-Term Memory unit to train and benchmark on the Penn Treebank dataset. By the end of this notebook, you should be able to understand how TensorFlow builds and executes a RNN model for Language Modelling."
   ]
  },
  {
   "cell_type": "markdown",
   "metadata": {},
   "source": [
    "<h2>The Objective</h2>\n",
    "By now, you should have an understanding of how Recurrent Networks work -- a specialized model to process sequential data by keeping track of the \"state\" or context. In this notebook, we go over a TensorFlow code snippet for creating a model focused on <b>Language Modelling</b> -- a very relevant task that is the cornerstone of many different linguistic problems such as <b>Speech Recognition, Machine Translation and Image Captioning</b>. For this, we will be using the Penn Treebank dataset, which is an often-used dataset for benchmarking Language Modelling models."
   ]
  },
  {
   "cell_type": "markdown",
   "metadata": {},
   "source": [
    "\n",
    "<h2>Table of Contents</h2>\n",
    "<ol>\n",
    "    <li><a href=\"#language_modelling\">What exactly is Language Modelling?</a></li>\n",
    "    <li><a href=\"#treebank_dataset\">The Penn Treebank dataset</a></li>\n",
    "    <li><a href=\"#word_embedding\">Work Embedding</a></li>\n",
    "    <li><a href=\"#building_lstm_model\">Building the LSTM model for Language Modeling</a></li>\n",
    "    <li><a href=\"#ltsm\">LTSM</a></li>\n",
    "</ol>\n",
    "<p></p>\n",
    "</div>\n",
    "<br>"
   ]
  },
  {
   "cell_type": "markdown",
   "metadata": {
    "button": false,
    "deletable": true,
    "new_sheet": false,
    "run_control": {
     "read_only": false
    }
   },
   "source": [
    "--------"
   ]
  },
  {
   "cell_type": "markdown",
   "metadata": {
    "button": false,
    "deletable": true,
    "new_sheet": false,
    "run_control": {
     "read_only": false
    }
   },
   "source": [
    "<a id=\"language_modelling\"></a>\n",
    "<h2>What exactly is Language Modelling?</h2>\n",
    "Language Modelling, to put it simply, <b>is the task of assigning probabilities to sequences of words</b>. This means that, given a context of one or a sequence of words in the language the model was trained on, the model should provide the next most probable words or sequence of words that follows from the given sequence of words the sentence. Language Modelling is one of the most important tasks in Natural Language Processing.\n",
    "\n",
    "<img src=\"https://ibm.box.com/shared/static/1d1i5gub6wljby2vani2vzxp0xsph702.png\" width=\"1080\">\n",
    "<center><i>Example of a sentence being predicted</i></center>\n",
    "<br><br>\n",
    "In this example, one can see the predictions for the next word of a sentence, given the context \"This is an\". As you can see, this boils down to a sequential data analysis task -- you are given a word or a sequence of words (the input data), and, given the context (the state), you need to find out what is the next word (the prediction). This kind of analysis is very important for language-related tasks such as <b>Speech Recognition, Machine Translation, Image Captioning, Text Correction</b> and many other very relevant problems. \n",
    "\n",
    "<img src=\"https://ibm.box.com/shared/static/az39idf9ipfdpc5ugifpgxnydelhyf3i.png\" width=\"1080\">\n",
    "<center><i>The above example is a schema of an RNN in execution</i></center>\n",
    "<br><br>\n",
    "As the above image shows, Recurrent Network models fit this problem like a glove. Alongside LSTM and its capacity to maintain the model's state for over one thousand time steps, we have all the tools we need to undertake this problem. The goal for this notebook is to create a model that can reach <b>low levels of perplexity</b> on our desired dataset.\n",
    "\n",
    "For Language Modelling problems, <b>perplexity</b> is the way to gauge efficiency. Perplexity is simply a measure of how well a probabilistic model is able to predict its sample. A higher-level way to explain this would be saying that <b>low perplexity means a higher degree of trust in the predictions the model makes</b>. Therefore, the lower perplexity is, the better."
   ]
  },
  {
   "cell_type": "markdown",
   "metadata": {},
   "source": [
    "<a id=\"treebank_dataset\"></a>\n",
    "<h2>The Penn Treebank dataset</h2>\n",
    "Historically, datasets big enough for Natural Language Processing are hard to come by. This is in part due to the necessity of the sentences to be broken down and tagged with a certain degree of correctness -- or else the models trained on it won't be able to be correct at all. This means that we need a <b>large amount of data, annotated by or at least corrected by humans</b>. This is, of course, not an easy task at all.\n",
    "\n",
    "The Penn Treebank, or PTB for short, is a dataset maintained by the University of Pennsylvania. It is <i>huge</i> -- there are over <b>four million and eight hundred thousand</b> annotated words in it, all corrected by humans. It is composed of many different sources, from abstracts of Department of Energy papers to texts from the Library of America. Since it is verifiably correct and of such a huge size, the Penn Treebank is commonly used as a benchmark dataset for Language Modelling.\n",
    "\n",
    "The dataset is divided in different kinds of annotations, such as Piece-of-Speech, Syntactic and Semantic skeletons. For this example, we will simply use a sample of clean, non-annotated words (with the exception of one tag --<code>&lt;unk&gt;</code>\n",
    ", which is used for rare words such as uncommon proper nouns) for our model. This means that we just want to predict what the next words would be, not what they mean in context or their classes on a given sentence.\n",
    "\n",
    "<center>Example of text from the dataset we are going to use, <b>ptb.train</b></center>\n",
    "<br><br>\n",
    "\n",
    "<div class=\"alert alert-block alert-info\" style=\"margin-top: 20px\">\n",
    "    <center>the percentage of lung cancer deaths among the workers at the west <code>&lt;unk&gt;</code> mass. paper factory appears to be the highest for any asbestos workers studied in western industrialized countries he said \n",
    " the plant which is owned by <code>&lt;unk&gt;</code> & <code>&lt;unk&gt;</code> co. was under contract with <code>&lt;unk&gt;</code> to make the cigarette filters \n",
    " the finding probably will support those who argue that the U.S. should regulate the class of asbestos including <code>&lt;unk&gt;</code> more <code>&lt;unk&gt;</code> than the common kind of asbestos <code>&lt;unk&gt;</code> found in most schools and other buildings dr. <code>&lt;unk&gt;</code> said</center>\n",
    "</div>"
   ]
  },
  {
   "cell_type": "markdown",
   "metadata": {
    "button": false,
    "deletable": true,
    "new_sheet": false,
    "run_control": {
     "read_only": false
    }
   },
   "source": [
    "<a id=\"word_embedding\"></a>\n",
    "<h2>Word Embeddings</h2><br/>\n",
    "\n",
    "For better processing, in this example, we will make use of <a href=\"https://www.tensorflow.org/tutorials/word2vec/\"><b>word embeddings</b></a>, which is <b>a way of representing sentence structures or words as n-dimensional vectors (where n is a reasonably high number, such as 200 or 500) of real numbers</b>. Basically, we will assign each word a randomly-initialized vector, and input those into the network to be processed. After a number of iterations, these vectors are expected to assume values that help the network to correctly predict what it needs to -- in our case, the probable next word in the sentence. This is shown to be a very effective task in Natural Language Processing, and is a commonplace practice.\n",
    "<br><br>\n",
    "<font size=\"4\"><strong>\n",
    "$$Vec(\"Example\") = [0.02, 0.00, 0.00, 0.92, 0.30, \\ldots]$$\n",
    "</strong></font>\n",
    "<br>\n",
    "Word Embedding tends to group up similarly used words <i>reasonably</i> close together in the vectorial space. For example, if we use T-SNE (a dimensional reduction visualization algorithm) to flatten the dimensions of our vectors into a 2-dimensional space and plot these words in a 2-dimensional space, we might see something like this:\n",
    "\n",
    "<img src=\"https://ibm.box.com/shared/static/bqhc5dg879gcoabzhxra1w8rkg3od1cu.png\" width=\"800\">\n",
    "<center><i>T-SNE Mockup with clusters marked for easier visualization</i></center>\n",
    "<br><br>\n",
    "As you can see, words that are frequently used together, in place of each other, or in the same places as them tend to be grouped together -- being closer together the higher they are correlated. For example, \"None\" is pretty semantically close to \"Zero\", while a phrase that uses \"Italy\", you could probably also fit \"Germany\" in it, with little damage to the sentence structure. The vectorial \"closeness\" for similar words like this is a great indicator of a well-built model.\n",
    "\n",
    "<hr>\n",
    " "
   ]
  },
  {
   "cell_type": "markdown",
   "metadata": {
    "button": false,
    "deletable": true,
    "new_sheet": false,
    "run_control": {
     "read_only": false
    }
   },
   "source": [
    "We need to import the necessary modules for our code. We need <b><code>numpy</code></b> and <b><code>tensorflow</code></b>, obviously. Additionally, we can import directly the <b><code>tensorflow.models.rnn</code></b> model, which includes the function for building RNNs, and <b><code>tensorflow.models.rnn.ptb.reader</code></b> which is the helper module for getting the input data from the dataset we just downloaded.\n",
    "\n",
    "If you want to learn more take a look at https://github.com/tensorflow/models/blob/master/tutorials/rnn/ptb/reader.py"
   ]
  },
  {
   "cell_type": "code",
   "execution_count": 1,
   "metadata": {
    "button": false,
    "collapsed": true,
    "deletable": true,
    "new_sheet": false,
    "run_control": {
     "read_only": false
    }
   },
   "outputs": [],
   "source": [
    "import time\n",
    "import numpy as np\n",
    "import tensorflow as tf"
   ]
  },
  {
   "cell_type": "code",
   "execution_count": 2,
   "metadata": {
    "button": false,
    "collapsed": true,
    "deletable": true,
    "new_sheet": false,
    "run_control": {
     "read_only": false
    }
   },
   "outputs": [
    {
     "name": "stdout",
     "output_type": "stream",
     "text": [
      "Archive:  data/ptb.zip\n",
      "   creating: data/ptb/\n",
      "  inflating: data/ptb/reader.py      \n",
      "   creating: data/__MACOSX/\n",
      "   creating: data/__MACOSX/ptb/\n",
      "  inflating: data/__MACOSX/ptb/._reader.py  \n",
      "  inflating: data/__MACOSX/._ptb     \n"
     ]
    }
   ],
   "source": [
    "!mkdir data\n",
    "!wget -q -O data/ptb.zip https://ibm.box.com/shared/static/z2yvmhbskc45xd2a9a4kkn6hg4g4kj5r.zip\n",
    "!unzip -o data/ptb.zip -d data\n",
    "!cp data/ptb/reader.py .\n",
    "\n",
    "import reader"
   ]
  },
  {
   "cell_type": "markdown",
   "metadata": {
    "button": false,
    "deletable": true,
    "new_sheet": false,
    "run_control": {
     "read_only": false
    }
   },
   "source": [
    "<a id=\"building_lstm_model\"></a>\n",
    "<h2>Building the LSTM model for Language Modeling</h2>\n",
    "Now that we know exactly what we are doing, we can start building our model using TensorFlow. The very first thing we need to do is download and extract the <code>simple-examples</code> dataset, which can be done by executing the code cell below."
   ]
  },
  {
   "cell_type": "code",
   "execution_count": 3,
   "metadata": {
    "button": false,
    "collapsed": true,
    "deletable": true,
    "new_sheet": false,
    "run_control": {
     "read_only": false
    }
   },
   "outputs": [
    {
     "name": "stdout",
     "output_type": "stream",
     "text": [
      "--2018-11-07 21:14:37--  http://www.fit.vutbr.cz/~imikolov/rnnlm/simple-examples.tgz\n",
      "Resolving www.fit.vutbr.cz (www.fit.vutbr.cz)... 147.229.9.23, 2001:67c:1220:809::93e5:917\n",
      "Connecting to www.fit.vutbr.cz (www.fit.vutbr.cz)|147.229.9.23|:80... connected.\n",
      "HTTP request sent, awaiting response... 200 OK\n",
      "Length: 34869662 (33M) [application/x-gtar]\n",
      "Saving to: ‘simple-examples.tgz’\n",
      "\n",
      "100%[======================================>] 34,869,662  2.26MB/s   in 15s    \n",
      "\n",
      "2018-11-07 21:14:52 (2.22 MB/s) - ‘simple-examples.tgz’ saved [34869662/34869662]\n",
      "\n"
     ]
    }
   ],
   "source": [
    "!wget http://www.fit.vutbr.cz/~imikolov/rnnlm/simple-examples.tgz \n",
    "!tar xzf simple-examples.tgz -C data/"
   ]
  },
  {
   "cell_type": "markdown",
   "metadata": {
    "button": false,
    "deletable": true,
    "new_sheet": false,
    "run_control": {
     "read_only": false
    }
   },
   "source": [
    "Additionally, for the sake of making it easy to play around with the model's hyperparameters, we can declare them beforehand. Feel free to change these -- you will see a difference in performance each time you change those!  \n"
   ]
  },
  {
   "cell_type": "code",
   "execution_count": 4,
   "metadata": {
    "button": false,
    "collapsed": true,
    "deletable": true,
    "new_sheet": false,
    "run_control": {
     "read_only": false
    }
   },
   "outputs": [],
   "source": [
    "#Initial weight scale\n",
    "init_scale = 0.1\n",
    "#Initial learning rate\n",
    "learning_rate = 1.0\n",
    "#Maximum permissible norm for the gradient (For gradient clipping -- another measure against Exploding Gradients)\n",
    "max_grad_norm = 5\n",
    "#The number of layers in our model\n",
    "num_layers = 2\n",
    "#The total number of recurrence steps, also known as the number of layers when our RNN is \"unfolded\"\n",
    "num_steps = 20\n",
    "#The number of processing units (neurons) in the hidden layers\n",
    "hidden_size_l1 = 256\n",
    "hidden_size_l2 = 128\n",
    "#The maximum number of epochs trained with the initial learning rate\n",
    "max_epoch_decay_lr = 4\n",
    "#The total number of epochs in training\n",
    "max_epoch = 15\n",
    "#The probability for keeping data in the Dropout Layer (This is an optimization, but is outside our scope for this notebook!)\n",
    "#At 1, we ignore the Dropout Layer wrapping.\n",
    "keep_prob = 1\n",
    "#The decay for the learning rate\n",
    "decay = 0.5\n",
    "#The size for each batch of data\n",
    "batch_size = 60\n",
    "#The size of our vocabulary\n",
    "vocab_size = 10000\n",
    "embeding_vector_size = 200\n",
    "#Training flag to separate training from testing\n",
    "is_training = 1\n",
    "#Data directory for our dataset\n",
    "data_dir = \"data/simple-examples/data/\""
   ]
  },
  {
   "cell_type": "markdown",
   "metadata": {
    "button": false,
    "deletable": true,
    "new_sheet": false,
    "run_control": {
     "read_only": false
    }
   },
   "source": [
    "Some clarifications for LSTM architecture based on the arguments:\n",
    "\n",
    "Network structure:\n",
    "<ul>\n",
    "    <li>In this network, the number of LSTM cells are 2. To give the model more expressive power, we can add multiple layers of LSTMs to process the data. The output of the first layer will become the input of the second and so on.\n",
    "    </li>\n",
    "    <li>The recurrence steps is 20, that is, when our RNN is \"Unfolded\", the recurrence step is 20.</li>   \n",
    "    <li>the structure is like:\n",
    "        <ul>\n",
    "            <li>200 input units -> [200x200] Weight -> 200 Hidden units (first layer) -> [200x200] Weight matrix  -> 200 Hidden units (second layer) ->  [200] weight Matrix -> 200 unit output</li>\n",
    "        </ul>\n",
    "    </li>\n",
    "</ul>\n",
    "<br>\n",
    "\n",
    "Input layer: \n",
    "<ul>\n",
    "    <li>The network has 200 input units.</li>\n",
    "    <li>Suppose each word is represented by an embedding vector of dimensionality e=200. The input layer of each cell will have 200 linear units. These e=200 linear units are connected to each of the h=200 LSTM units in the hidden layer (assuming there is only one hidden layer, though our case has 2 layers).\n",
    "    </li>\n",
    "    <li>The input shape is [batch_size, num_steps], that is [30x20]. It will turn into [30x20x200] after embedding, and then 20x[30x200]\n",
    "    </li>\n",
    "</ul>\n",
    "<br>\n",
    "\n",
    "Hidden layer:\n",
    "<ul>\n",
    "    <li>Each LSTM has 200 hidden units which is equivalent to the dimensionality of the embedding words and output.</li>\n",
    "</ul>\n",
    "<br>"
   ]
  },
  {
   "cell_type": "markdown",
   "metadata": {
    "button": false,
    "deletable": true,
    "new_sheet": false,
    "run_control": {
     "read_only": false
    }
   },
   "source": [
    "There is a lot to be done and a ton of information to process at the same time, so go over this code slowly. It may seem complex at first, but if you try to apply what you just learned about language modelling to the code you see, you should be able to understand it.\n",
    "\n",
    "This code is adapted from the <a href=\"https://github.com/tensorflow/models\">PTBModel</a> example bundled with the TensorFlow source code.\n",
    "\n",
    "\n",
    "<h4>Train data</h4>\n",
    "The story starts from data:\n",
    "<ul>\n",
    "    <li>Train data is a list of words, of size 929589, represented by numbers, e.g. [9971, 9972, 9974, 9975,...]</li>\n",
    "    <li>We read data as mini-batch of size b=30. Assume the size of each sentence is 20 words (num_steps = 20). Then it will take $$floor(\\frac{N}{b \\times h})+1=1548$$ iterations for the learner to go through all sentences once. Where N is the size of the list of words, b is batch size, andh is size of each sentence. So, the number of iterators is 1548\n",
    "    </li>\n",
    "    <li>Each batch data is read from train dataset of size 600, and shape of [30x20]</li>\n",
    "</ul>"
   ]
  },
  {
   "cell_type": "markdown",
   "metadata": {
    "button": false,
    "deletable": true,
    "new_sheet": false,
    "run_control": {
     "read_only": false
    }
   },
   "source": [
    "First we start an interactive session:"
   ]
  },
  {
   "cell_type": "code",
   "execution_count": 5,
   "metadata": {
    "button": false,
    "collapsed": true,
    "deletable": true,
    "new_sheet": false,
    "run_control": {
     "read_only": false
    }
   },
   "outputs": [],
   "source": [
    "session = tf.InteractiveSession()"
   ]
  },
  {
   "cell_type": "code",
   "execution_count": 6,
   "metadata": {
    "button": false,
    "collapsed": true,
    "deletable": true,
    "new_sheet": false,
    "run_control": {
     "read_only": false
    }
   },
   "outputs": [],
   "source": [
    "# Reads the data and separates it into training data, validation data and testing data\n",
    "raw_data = reader.ptb_raw_data(data_dir)\n",
    "train_data, valid_data, test_data, vocab, word_to_id = raw_data"
   ]
  },
  {
   "cell_type": "code",
   "execution_count": 7,
   "metadata": {},
   "outputs": [
    {
     "data": {
      "text/plain": [
       "929589"
      ]
     },
     "execution_count": 7,
     "metadata": {},
     "output_type": "execute_result"
    }
   ],
   "source": [
    "len(train_data)"
   ]
  },
  {
   "cell_type": "code",
   "execution_count": 8,
   "metadata": {},
   "outputs": [
    {
     "name": "stdout",
     "output_type": "stream",
     "text": [
      "['aer', 'banknote', 'berlitz', 'calloway', 'centrust', 'cluett', 'fromstein', 'gitano', 'guterman', 'hydro-quebec', 'ipo', 'kia', 'memotec', 'mlx', 'nahb', 'punts', 'rake', 'regatta', 'rubens', 'sim', 'snack-food', 'ssangyong', 'swapo', 'wachter', '<eos>', 'pierre', '<unk>', 'N', 'years', 'old', 'will', 'join', 'the', 'board', 'as', 'a', 'nonexecutive', 'director', 'nov.', 'N', '<eos>', 'mr.', '<unk>', 'is', 'chairman', 'of', '<unk>', 'n.v.', 'the', 'dutch', 'publishing', 'group', '<eos>', 'rudolph', '<unk>', 'N', 'years', 'old', 'and', 'former', 'chairman', 'of', 'consolidated', 'gold', 'fields', 'plc', 'was', 'named', 'a', 'nonexecutive', 'director', 'of', 'this', 'british', 'industrial', 'conglomerate', '<eos>', 'a', 'form', 'of', 'asbestos', 'once', 'used', 'to', 'make', 'kent', 'cigarette', 'filters', 'has', 'caused', 'a', 'high', 'percentage', 'of', 'cancer', 'deaths', 'among', 'a', 'group', 'of']\n"
     ]
    }
   ],
   "source": [
    "def id_to_word(id_list):\n",
    "    line = []\n",
    "    for w in id_list:\n",
    "        for word, wid in word_to_id.items():\n",
    "            if wid == w:\n",
    "                line.append(word)\n",
    "    return line            \n",
    "                \n",
    "\n",
    "print(id_to_word(train_data[0:100]))"
   ]
  },
  {
   "cell_type": "markdown",
   "metadata": {
    "button": false,
    "deletable": true,
    "new_sheet": false,
    "run_control": {
     "read_only": false
    }
   },
   "source": [
    "Lets just read one mini-batch now and feed our network:"
   ]
  },
  {
   "cell_type": "code",
   "execution_count": 9,
   "metadata": {
    "button": false,
    "collapsed": true,
    "deletable": true,
    "new_sheet": false,
    "run_control": {
     "read_only": false
    }
   },
   "outputs": [],
   "source": [
    "itera = reader.ptb_iterator(train_data, batch_size, num_steps)\n",
    "first_touple = itera.__next__()\n",
    "x = first_touple[0]\n",
    "y = first_touple[1]"
   ]
  },
  {
   "cell_type": "code",
   "execution_count": 10,
   "metadata": {
    "button": false,
    "collapsed": true,
    "deletable": true,
    "new_sheet": false,
    "run_control": {
     "read_only": false
    }
   },
   "outputs": [
    {
     "data": {
      "text/plain": [
       "(60, 20)"
      ]
     },
     "execution_count": 10,
     "metadata": {},
     "output_type": "execute_result"
    }
   ],
   "source": [
    "x.shape"
   ]
  },
  {
   "cell_type": "markdown",
   "metadata": {
    "button": false,
    "deletable": true,
    "new_sheet": false,
    "run_control": {
     "read_only": false
    }
   },
   "source": [
    "Lets look at 3 sentences of our input x:"
   ]
  },
  {
   "cell_type": "code",
   "execution_count": 11,
   "metadata": {
    "button": false,
    "collapsed": true,
    "deletable": true,
    "new_sheet": false,
    "run_control": {
     "read_only": false
    }
   },
   "outputs": [
    {
     "data": {
      "text/plain": [
       "array([[9970, 9971, 9972, 9974, 9975, 9976, 9980, 9981, 9982, 9983, 9984,\n",
       "        9986, 9987, 9988, 9989, 9991, 9992, 9993, 9994, 9995],\n",
       "       [ 901,   33, 3361,    8, 1279,  437,  597,    6,  261, 4276, 1089,\n",
       "           8, 2836,    2,  269,    4, 5526,  241,   13, 2420],\n",
       "       [2654,    6,  334, 2886,    4,    1,  233,  711,  834,   11,  130,\n",
       "         123,    7,  514,    2,   63,   10,  514,    8,  605]],\n",
       "      dtype=int32)"
      ]
     },
     "execution_count": 11,
     "metadata": {},
     "output_type": "execute_result"
    }
   ],
   "source": [
    "x[0:3]"
   ]
  },
  {
   "cell_type": "markdown",
   "metadata": {
    "button": false,
    "deletable": true,
    "new_sheet": false,
    "run_control": {
     "read_only": false
    }
   },
   "source": [
    "we define 2 place holders to feed them with mini-batchs, that is x and y:"
   ]
  },
  {
   "cell_type": "code",
   "execution_count": 12,
   "metadata": {
    "button": false,
    "collapsed": true,
    "deletable": true,
    "new_sheet": false,
    "run_control": {
     "read_only": false
    }
   },
   "outputs": [],
   "source": [
    "_input_data = tf.placeholder(tf.int32, [batch_size, num_steps]) #[30#20]\n",
    "_targets = tf.placeholder(tf.int32, [batch_size, num_steps]) #[30#20]"
   ]
  },
  {
   "cell_type": "markdown",
   "metadata": {
    "button": false,
    "deletable": true,
    "new_sheet": false,
    "run_control": {
     "read_only": false
    }
   },
   "source": [
    "Lets define a dictionary, and use it later to feed the placeholders with our first mini-batch:"
   ]
  },
  {
   "cell_type": "code",
   "execution_count": 13,
   "metadata": {
    "button": false,
    "collapsed": true,
    "deletable": true,
    "new_sheet": false,
    "run_control": {
     "read_only": false
    }
   },
   "outputs": [],
   "source": [
    "feed_dict = {_input_data:x, _targets:y}"
   ]
  },
  {
   "cell_type": "markdown",
   "metadata": {
    "button": false,
    "deletable": true,
    "new_sheet": false,
    "run_control": {
     "read_only": false
    }
   },
   "source": [
    "For example, we can use it to feed <code>\\_input\\_data</code>:"
   ]
  },
  {
   "cell_type": "code",
   "execution_count": 14,
   "metadata": {
    "button": false,
    "collapsed": true,
    "deletable": true,
    "new_sheet": false,
    "run_control": {
     "read_only": false
    }
   },
   "outputs": [
    {
     "data": {
      "text/plain": [
       "array([[9970, 9971, 9972, ..., 9993, 9994, 9995],\n",
       "       [ 901,   33, 3361, ...,  241,   13, 2420],\n",
       "       [2654,    6,  334, ...,  514,    8,  605],\n",
       "       ...,\n",
       "       [7831,   36, 1678, ...,    4, 4558,  157],\n",
       "       [  59, 2070, 2433, ...,  400,    1, 1173],\n",
       "       [2097,    3,    2, ..., 2043,   23,    1]], dtype=int32)"
      ]
     },
     "execution_count": 14,
     "metadata": {},
     "output_type": "execute_result"
    }
   ],
   "source": [
    "session.run(_input_data, feed_dict)"
   ]
  },
  {
   "cell_type": "markdown",
   "metadata": {
    "button": false,
    "deletable": true,
    "new_sheet": false,
    "run_control": {
     "read_only": false
    }
   },
   "source": [
    "In this step, we create the stacked LSTM, which is a 2 layer LSTM network:"
   ]
  },
  {
   "cell_type": "code",
   "execution_count": 15,
   "metadata": {
    "button": false,
    "collapsed": true,
    "deletable": true,
    "new_sheet": false,
    "run_control": {
     "read_only": false
    }
   },
   "outputs": [],
   "source": [
    "lstm_cell_l1 = tf.contrib.rnn.BasicLSTMCell(hidden_size_l1, forget_bias=0.0)\n",
    "lstm_cell_l2 = tf.contrib.rnn.BasicLSTMCell(hidden_size_l2, forget_bias=0.0)\n",
    "stacked_lstm = tf.contrib.rnn.MultiRNNCell([lstm_cell_l1, lstm_cell_l2])"
   ]
  },
  {
   "cell_type": "markdown",
   "metadata": {
    "button": false,
    "deletable": true,
    "new_sheet": false,
    "run_control": {
     "read_only": false
    }
   },
   "source": [
    "Also, we initialize the states of the nework:\n",
    "\n",
    "<h4>_initial_state</h4>\n",
    "\n",
    "For each LCTM, there are 2 state matrices, c\\_state and m\\_state.  c_state and m_state represent \"Memory State\" and \"Cell State\". Each hidden layer, has a vector of size 30, which keeps the states. so, for 200 hidden units in each LSTM, we have a matrix of size [30x200]"
   ]
  },
  {
   "cell_type": "code",
   "execution_count": 16,
   "metadata": {
    "button": false,
    "collapsed": true,
    "deletable": true,
    "new_sheet": false,
    "run_control": {
     "read_only": false
    }
   },
   "outputs": [
    {
     "data": {
      "text/plain": [
       "(LSTMStateTuple(c=<tf.Tensor 'MultiRNNCellZeroState/BasicLSTMCellZeroState/zeros:0' shape=(60, 256) dtype=float32>, h=<tf.Tensor 'MultiRNNCellZeroState/BasicLSTMCellZeroState/zeros_1:0' shape=(60, 256) dtype=float32>),\n",
       " LSTMStateTuple(c=<tf.Tensor 'MultiRNNCellZeroState/BasicLSTMCellZeroState_1/zeros:0' shape=(60, 128) dtype=float32>, h=<tf.Tensor 'MultiRNNCellZeroState/BasicLSTMCellZeroState_1/zeros_1:0' shape=(60, 128) dtype=float32>))"
      ]
     },
     "execution_count": 16,
     "metadata": {},
     "output_type": "execute_result"
    }
   ],
   "source": [
    "_initial_state = stacked_lstm.zero_state(batch_size, tf.float32)\n",
    "_initial_state"
   ]
  },
  {
   "cell_type": "markdown",
   "metadata": {
    "button": false,
    "deletable": true,
    "new_sheet": false,
    "run_control": {
     "read_only": false
    }
   },
   "source": [
    "Lets look at the states, though they are all zero for now:"
   ]
  },
  {
   "cell_type": "code",
   "execution_count": 17,
   "metadata": {
    "button": false,
    "collapsed": true,
    "deletable": true,
    "new_sheet": false,
    "run_control": {
     "read_only": false
    }
   },
   "outputs": [
    {
     "data": {
      "text/plain": [
       "(LSTMStateTuple(c=array([[0., 0., 0., ..., 0., 0., 0.],\n",
       "        [0., 0., 0., ..., 0., 0., 0.],\n",
       "        [0., 0., 0., ..., 0., 0., 0.],\n",
       "        ...,\n",
       "        [0., 0., 0., ..., 0., 0., 0.],\n",
       "        [0., 0., 0., ..., 0., 0., 0.],\n",
       "        [0., 0., 0., ..., 0., 0., 0.]], dtype=float32), h=array([[0., 0., 0., ..., 0., 0., 0.],\n",
       "        [0., 0., 0., ..., 0., 0., 0.],\n",
       "        [0., 0., 0., ..., 0., 0., 0.],\n",
       "        ...,\n",
       "        [0., 0., 0., ..., 0., 0., 0.],\n",
       "        [0., 0., 0., ..., 0., 0., 0.],\n",
       "        [0., 0., 0., ..., 0., 0., 0.]], dtype=float32)),\n",
       " LSTMStateTuple(c=array([[0., 0., 0., ..., 0., 0., 0.],\n",
       "        [0., 0., 0., ..., 0., 0., 0.],\n",
       "        [0., 0., 0., ..., 0., 0., 0.],\n",
       "        ...,\n",
       "        [0., 0., 0., ..., 0., 0., 0.],\n",
       "        [0., 0., 0., ..., 0., 0., 0.],\n",
       "        [0., 0., 0., ..., 0., 0., 0.]], dtype=float32), h=array([[0., 0., 0., ..., 0., 0., 0.],\n",
       "        [0., 0., 0., ..., 0., 0., 0.],\n",
       "        [0., 0., 0., ..., 0., 0., 0.],\n",
       "        ...,\n",
       "        [0., 0., 0., ..., 0., 0., 0.],\n",
       "        [0., 0., 0., ..., 0., 0., 0.],\n",
       "        [0., 0., 0., ..., 0., 0., 0.]], dtype=float32)))"
      ]
     },
     "execution_count": 17,
     "metadata": {},
     "output_type": "execute_result"
    }
   ],
   "source": [
    "session.run(_initial_state, feed_dict)"
   ]
  },
  {
   "cell_type": "markdown",
   "metadata": {
    "button": false,
    "deletable": true,
    "new_sheet": false,
    "run_control": {
     "read_only": false
    }
   },
   "source": [
    "<h3>Embeddings</h3>\n",
    "We have to convert the words in our dataset to vectors of numbers. The traditional approach is to use one-hot encoding method that is usually used for converting categorical values to numerical values. However, One-hot encoded vectors are high-dimensional, sparse and in a big dataset, computationally inefficient. So, we use word2vec approach. It is, in fact, a layer in our LSTM network, where the word IDs will be represented as a dense representation before feeding to the LSTM. \n",
    "\n",
    "The embedded vectors also get updated during the training process of the deep neural network.\n",
    "We create the embeddings for our input data. <b>embedding_vocab</b> is matrix of [10000x200] for all 10000 unique words."
   ]
  },
  {
   "cell_type": "code",
   "execution_count": 18,
   "metadata": {
    "button": false,
    "collapsed": true,
    "deletable": true,
    "new_sheet": false,
    "run_control": {
     "read_only": false
    }
   },
   "outputs": [],
   "source": [
    "embedding_vocab = tf.get_variable(\"embedding_vocab\", [vocab_size, hidden_size_l1])  #[10000x200]"
   ]
  },
  {
   "cell_type": "markdown",
   "metadata": {},
   "source": [
    "Lets initialize the <code>embedding_words</code> variable with random values."
   ]
  },
  {
   "cell_type": "code",
   "execution_count": 19,
   "metadata": {
    "button": false,
    "collapsed": true,
    "deletable": true,
    "new_sheet": false,
    "run_control": {
     "read_only": false
    }
   },
   "outputs": [
    {
     "data": {
      "text/plain": [
       "array([[-0.02097763, -0.00964641, -0.02373522, ...,  0.00029043,\n",
       "        -0.01417008, -0.00297771],\n",
       "       [-0.01387603, -0.02029223,  0.0230464 , ...,  0.0229635 ,\n",
       "         0.00140071, -0.0075882 ],\n",
       "       [-0.0228925 ,  0.002062  , -0.02194928, ...,  0.02170637,\n",
       "        -0.01476787, -0.0065075 ],\n",
       "       ...,\n",
       "       [ 0.00587707, -0.01905908,  0.00941611, ...,  0.01801426,\n",
       "        -0.020829  ,  0.01101802],\n",
       "       [ 0.00142354,  0.00772602,  0.02354054, ...,  0.02212931,\n",
       "        -0.00985785,  0.01363466],\n",
       "       [-0.01132707, -0.00322559,  0.01900292, ...,  0.01382002,\n",
       "         0.02001742, -0.0010921 ]], dtype=float32)"
      ]
     },
     "execution_count": 19,
     "metadata": {},
     "output_type": "execute_result"
    }
   ],
   "source": [
    "session.run(tf.global_variables_initializer())\n",
    "session.run(embedding_vocab)"
   ]
  },
  {
   "cell_type": "markdown",
   "metadata": {
    "button": false,
    "deletable": true,
    "new_sheet": false,
    "run_control": {
     "read_only": false
    }
   },
   "source": [
    "<b>embedding_lookup()</b> finds the embedded values for our batch of 30x20 words. It  goes to each row of <code>input_data</code>, and for each word in the row/sentence, finds the correspond vector in <code>embedding_dic<code>. <br>\n",
    "It creates a [30x20x200] tensor, so, the first element of <b>inputs</b> (the first sentence), is a matrix of 20x200, which each row of it, is vector representing a word in the sentence."
   ]
  },
  {
   "cell_type": "code",
   "execution_count": 20,
   "metadata": {
    "button": false,
    "collapsed": true,
    "deletable": true,
    "new_sheet": false,
    "run_control": {
     "read_only": false
    }
   },
   "outputs": [
    {
     "data": {
      "text/plain": [
       "<tf.Tensor 'embedding_lookup:0' shape=(60, 20, 256) dtype=float32>"
      ]
     },
     "execution_count": 20,
     "metadata": {},
     "output_type": "execute_result"
    }
   ],
   "source": [
    "# Define where to get the data for our embeddings from\n",
    "inputs = tf.nn.embedding_lookup(embedding_vocab, _input_data)  #shape=(30, 20, 200) \n",
    "inputs"
   ]
  },
  {
   "cell_type": "code",
   "execution_count": 21,
   "metadata": {
    "button": false,
    "collapsed": true,
    "deletable": true,
    "new_sheet": false,
    "run_control": {
     "read_only": false
    }
   },
   "outputs": [
    {
     "data": {
      "text/plain": [
       "array([[ 0.00327943,  0.02371182, -0.00804212, ...,  0.01964687,\n",
       "        -0.00240415,  0.02030174],\n",
       "       [-0.00523672,  0.00942178, -0.00453076, ..., -0.00891645,\n",
       "        -0.01293377,  0.01503315],\n",
       "       [-0.02281232,  0.01285059, -0.01208667, ...,  0.0014039 ,\n",
       "        -0.00643893,  0.02276284],\n",
       "       ...,\n",
       "       [ 0.00278965,  0.01897888,  0.00191133, ...,  0.01978494,\n",
       "        -0.01531453, -0.00247408],\n",
       "       [ 0.01709707, -0.0143426 ,  0.01819964, ...,  0.01276939,\n",
       "         0.00311617,  0.0139705 ],\n",
       "       [ 0.00940721,  0.00810605,  0.01987073, ..., -0.00447635,\n",
       "        -0.0156926 , -0.02376143]], dtype=float32)"
      ]
     },
     "execution_count": 21,
     "metadata": {},
     "output_type": "execute_result"
    }
   ],
   "source": [
    "session.run(inputs[0], feed_dict)"
   ]
  },
  {
   "cell_type": "markdown",
   "metadata": {
    "button": false,
    "deletable": true,
    "new_sheet": false,
    "run_control": {
     "read_only": false
    }
   },
   "source": [
    "<h3>Constructing Recurrent Neural Networks</h3>\n",
    "<b>tf.nn.dynamic_rnn()</b> creates a recurrent neural network using <b>stacked_lstm</b>. \n",
    "\n",
    "The input should be a Tensor of shape: [batch_size, max_time, embedding_vector_size], in our case it would be (30, 20, 200)\n",
    "\n",
    "This method, returns a pair (outputs, new_state) where:\n",
    "<ul>\n",
    "    <li><b>outputs</b>: is a length T list of outputs (one for each input), or a nested tuple of such elements.</li>\n",
    "    <li><b>new_state</b>: is the final state.</li>\n",
    "</ul>"
   ]
  },
  {
   "cell_type": "code",
   "execution_count": 22,
   "metadata": {
    "button": false,
    "collapsed": true,
    "deletable": true,
    "new_sheet": false,
    "run_control": {
     "read_only": false
    },
    "scrolled": true
   },
   "outputs": [],
   "source": [
    "outputs, new_state =  tf.nn.dynamic_rnn(stacked_lstm, inputs, initial_state=_initial_state)"
   ]
  },
  {
   "cell_type": "markdown",
   "metadata": {
    "button": false,
    "deletable": true,
    "new_sheet": false,
    "run_control": {
     "read_only": false
    }
   },
   "source": [
    "so, lets look at the outputs. The output of the stackedLSTM comes from 200 hidden_layer, and in each time step(=20), one of them get activated. we use the linear activation to map the 200 hidden layer to a [?x10 matrix]"
   ]
  },
  {
   "cell_type": "code",
   "execution_count": 23,
   "metadata": {
    "button": false,
    "collapsed": true,
    "deletable": true,
    "new_sheet": false,
    "run_control": {
     "read_only": false
    }
   },
   "outputs": [
    {
     "data": {
      "text/plain": [
       "<tf.Tensor 'rnn/transpose_1:0' shape=(60, 20, 128) dtype=float32>"
      ]
     },
     "execution_count": 23,
     "metadata": {},
     "output_type": "execute_result"
    }
   ],
   "source": [
    "outputs"
   ]
  },
  {
   "cell_type": "code",
   "execution_count": 24,
   "metadata": {
    "button": false,
    "collapsed": true,
    "deletable": true,
    "new_sheet": false,
    "run_control": {
     "read_only": false
    }
   },
   "outputs": [
    {
     "data": {
      "text/plain": [
       "array([[ 9.90534463e-05, -1.82708955e-05,  2.09938822e-04, ...,\n",
       "        -5.87935094e-04,  1.88516395e-04,  3.78442837e-06],\n",
       "       [ 4.75169276e-04, -2.04151525e-04, -4.18632175e-04, ...,\n",
       "        -2.72473233e-04,  5.06744604e-04, -4.68250742e-04],\n",
       "       [ 1.12356385e-04, -4.54266294e-04, -5.47716743e-04, ...,\n",
       "        -3.09426614e-05, -1.23331638e-05, -1.45334995e-03],\n",
       "       ...,\n",
       "       [ 9.29410628e-04, -9.59789031e-05,  3.97666096e-04, ...,\n",
       "         2.39412926e-04, -1.10585133e-04, -4.99250200e-05],\n",
       "       [ 5.21894544e-04,  1.61171920e-04,  2.89734860e-04, ...,\n",
       "         2.77329091e-04, -6.98408476e-05,  6.01417305e-05],\n",
       "       [ 4.02548525e-04, -4.26089187e-04,  4.22751727e-05, ...,\n",
       "        -1.30607499e-04, -2.09758189e-04,  7.96985754e-04]], dtype=float32)"
      ]
     },
     "execution_count": 24,
     "metadata": {},
     "output_type": "execute_result"
    }
   ],
   "source": [
    "session.run(tf.global_variables_initializer())\n",
    "session.run(outputs[0], feed_dict)"
   ]
  },
  {
   "cell_type": "markdown",
   "metadata": {
    "button": false,
    "deletable": true,
    "new_sheet": false,
    "run_control": {
     "read_only": false
    }
   },
   "source": [
    "we need to flatten the outputs to be able to connect it softmax layer. Lets reshape the output tensor from  [30 x 20 x 200] to [600 x 200].\n",
    "\n",
    "<b>Notice:</b> Imagine our output is 3-d tensor as following (of course each <code>sen_x_word_y</code> is a an embedded vector by itself): \n",
    "<ul>\n",
    "    <li>sentence 1: [[sen1word1], [sen1word2], [sen1word3], ..., [sen1word20]]</li> \n",
    "    <li>sentence 2: [[sen2word1], [sen2word2], [sen2word3], ..., [sen2word20]]</li>   \n",
    "    <li>sentence 3: [[sen3word1], [sen3word2], [sen3word3], ..., [sen3word20]]</li>  \n",
    "    <li>...  </li>\n",
    "    <li>sentence 30: [[sen30word1], [sen30word2], [sen30word3], ..., [sen30word20]]</li>   \n",
    "</ul>\n",
    "Now, the flatten would convert this 3-dim tensor to:\n",
    "\n",
    "[ [sen1word1], [sen1word2], [sen1word3], ..., [sen1word20],[sen2word1], [sen2word2], [sen2word3], ..., [sen2word20], ..., [sen30word20] ]\n"
   ]
  },
  {
   "cell_type": "code",
   "execution_count": 25,
   "metadata": {
    "button": false,
    "collapsed": true,
    "deletable": true,
    "new_sheet": false,
    "run_control": {
     "read_only": false
    }
   },
   "outputs": [
    {
     "data": {
      "text/plain": [
       "<tf.Tensor 'Reshape:0' shape=(1200, 128) dtype=float32>"
      ]
     },
     "execution_count": 25,
     "metadata": {},
     "output_type": "execute_result"
    }
   ],
   "source": [
    "output = tf.reshape(outputs, [-1, hidden_size_l2])\n",
    "output"
   ]
  },
  {
   "cell_type": "markdown",
   "metadata": {
    "button": false,
    "deletable": true,
    "new_sheet": false,
    "run_control": {
     "read_only": false
    }
   },
   "source": [
    "<h3>logistic unit</h3>\n",
    "Now, we create a logistic unit to return the probability of the output word in our vocabulary with 1000 words. \n",
    "\n",
    "$$Softmax = [600 \\times 200] * [200 \\times 1000] + [1 \\times 1000] \\Longrightarrow [600 \\times 1000]$$"
   ]
  },
  {
   "cell_type": "code",
   "execution_count": 26,
   "metadata": {
    "button": false,
    "collapsed": true,
    "deletable": true,
    "new_sheet": false,
    "run_control": {
     "read_only": false
    }
   },
   "outputs": [],
   "source": [
    "softmax_w = tf.get_variable(\"softmax_w\", [hidden_size_l2, vocab_size]) #[200x1000]\n",
    "softmax_b = tf.get_variable(\"softmax_b\", [vocab_size]) #[1x1000]\n",
    "logits = tf.matmul(output, softmax_w) + softmax_b\n",
    "prob = tf.nn.softmax(logits)"
   ]
  },
  {
   "cell_type": "markdown",
   "metadata": {},
   "source": [
    "Lets look at the probability of observing words for t=0 to t=20:"
   ]
  },
  {
   "cell_type": "code",
   "execution_count": 27,
   "metadata": {
    "button": false,
    "collapsed": true,
    "deletable": true,
    "new_sheet": false,
    "run_control": {
     "read_only": false
    }
   },
   "outputs": [
    {
     "name": "stdout",
     "output_type": "stream",
     "text": [
      "shape of the output:  (1200, 10000)\n",
      "The probability of observing words in t=0 to t=20 [[1.01484889e-04 1.00396166e-04 9.93899666e-05 ... 1.00713129e-04\n",
      "  1.01116115e-04 9.85836668e-05]\n",
      " [1.01486483e-04 1.00393088e-04 9.93922658e-05 ... 1.00709069e-04\n",
      "  1.01118203e-04 9.85848310e-05]\n",
      " [1.01487611e-04 1.00391670e-04 9.93842623e-05 ... 1.00711070e-04\n",
      "  1.01117221e-04 9.85886072e-05]\n",
      " ...\n",
      " [1.01485071e-04 1.00390018e-04 9.93972499e-05 ... 1.00718571e-04\n",
      "  1.01114681e-04 9.85943407e-05]\n",
      " [1.01488062e-04 1.00399775e-04 9.93893700e-05 ... 1.00724814e-04\n",
      "  1.01117534e-04 9.85846855e-05]\n",
      " [1.01496997e-04 1.00405334e-04 9.93818248e-05 ... 1.00725621e-04\n",
      "  1.01119847e-04 9.85735169e-05]]\n"
     ]
    }
   ],
   "source": [
    "session.run(tf.global_variables_initializer())\n",
    "output_words_prob = session.run(prob, feed_dict)\n",
    "print(\"shape of the output: \", output_words_prob.shape)\n",
    "print(\"The probability of observing words in t=0 to t=20\", output_words_prob[0:20])"
   ]
  },
  {
   "cell_type": "markdown",
   "metadata": {
    "button": false,
    "deletable": true,
    "new_sheet": false,
    "run_control": {
     "read_only": false
    }
   },
   "source": [
    "<h3>Prediction</h3>\n",
    "What is the word correspond to the probability output? Lets use the maximum probability:"
   ]
  },
  {
   "cell_type": "code",
   "execution_count": 28,
   "metadata": {
    "button": false,
    "collapsed": true,
    "deletable": true,
    "new_sheet": false,
    "run_control": {
     "read_only": false
    }
   },
   "outputs": [
    {
     "data": {
      "text/plain": [
       "array([2497, 2497,  264,  264, 5116, 5116, 5116, 5116, 2901, 2901, 2901,\n",
       "       2901, 5817, 5817, 5817, 5817, 2901, 5817, 7825, 2510])"
      ]
     },
     "execution_count": 28,
     "metadata": {},
     "output_type": "execute_result"
    }
   ],
   "source": [
    "np.argmax(output_words_prob[0:20], axis=1)"
   ]
  },
  {
   "cell_type": "markdown",
   "metadata": {
    "button": false,
    "deletable": true,
    "new_sheet": false,
    "run_control": {
     "read_only": false
    }
   },
   "source": [
    "So, what is the ground truth for the first word of first sentence? "
   ]
  },
  {
   "cell_type": "code",
   "execution_count": 29,
   "metadata": {
    "button": false,
    "collapsed": true,
    "deletable": true,
    "new_sheet": false,
    "run_control": {
     "read_only": false
    }
   },
   "outputs": [
    {
     "data": {
      "text/plain": [
       "array([9971, 9972, 9974, 9975, 9976, 9980, 9981, 9982, 9983, 9984, 9986,\n",
       "       9987, 9988, 9989, 9991, 9992, 9993, 9994, 9995, 9996], dtype=int32)"
      ]
     },
     "execution_count": 29,
     "metadata": {},
     "output_type": "execute_result"
    }
   ],
   "source": [
    "y[0]"
   ]
  },
  {
   "cell_type": "markdown",
   "metadata": {
    "button": false,
    "deletable": true,
    "new_sheet": false,
    "run_control": {
     "read_only": false
    }
   },
   "source": [
    "Also, you can get it from target tensor, if you want to find the embedding vector:"
   ]
  },
  {
   "cell_type": "code",
   "execution_count": 30,
   "metadata": {
    "button": false,
    "collapsed": true,
    "deletable": true,
    "new_sheet": false,
    "run_control": {
     "read_only": false
    }
   },
   "outputs": [
    {
     "data": {
      "text/plain": [
       "array([9971, 9972, 9974, 9975, 9976, 9980, 9981, 9982, 9983, 9984, 9986,\n",
       "       9987, 9988, 9989, 9991, 9992, 9993, 9994, 9995, 9996], dtype=int32)"
      ]
     },
     "execution_count": 30,
     "metadata": {},
     "output_type": "execute_result"
    }
   ],
   "source": [
    "targ = session.run(_targets, feed_dict) \n",
    "targ[0]"
   ]
  },
  {
   "cell_type": "markdown",
   "metadata": {},
   "source": [
    "How similar the predicted words are to the target words?"
   ]
  },
  {
   "cell_type": "markdown",
   "metadata": {
    "button": false,
    "deletable": true,
    "new_sheet": false,
    "run_control": {
     "read_only": false
    }
   },
   "source": [
    "<h4>Objective function</h4>\n",
    "\n",
    "Now we have to define our objective function, to calculate the similarity of predicted values to ground truth, and then, penalize the model with the error. Our objective is to minimize loss function, that is, to minimize the average negative log probability of the target words:\n",
    "\n",
    "$$\\text{loss} = -\\frac{1}{N}\\sum_{i=1}^{N} \\ln p_{\\text{target}_i}$$\n",
    "\n",
    "This function is already implemented and available in TensorFlow through <b>sequence_loss_by_example</b>. It calculates the weighted cross-entropy loss for <b>logits</b> and the <b>target</b> sequence.  \n",
    "\n",
    "The arguments of this function are:  \n",
    "<ul>\n",
    "    <li>logits: List of 2D Tensors of shape [batch_size x num_decoder_symbols].</li>  \n",
    "    <li>targets: List of 1D batch-sized int32 Tensors of the same length as logits.</li>   \n",
    "    <li>weights: List of 1D batch-sized float-Tensors of the same length as logits.</li> \n",
    "</ul>"
   ]
  },
  {
   "cell_type": "code",
   "execution_count": 31,
   "metadata": {
    "button": false,
    "collapsed": true,
    "deletable": true,
    "new_sheet": false,
    "run_control": {
     "read_only": false
    }
   },
   "outputs": [],
   "source": [
    "loss = tf.contrib.legacy_seq2seq.sequence_loss_by_example([logits], [tf.reshape(_targets, [-1])],[tf.ones([batch_size * num_steps])])"
   ]
  },
  {
   "cell_type": "markdown",
   "metadata": {
    "button": false,
    "deletable": true,
    "new_sheet": false,
    "run_control": {
     "read_only": false
    }
   },
   "source": [
    "loss is a 1D batch-sized float Tensor [600x1]: The log-perplexity for each sequence. Lets look at the first 10 values of loss:"
   ]
  },
  {
   "cell_type": "code",
   "execution_count": 32,
   "metadata": {
    "button": false,
    "collapsed": true,
    "deletable": true,
    "new_sheet": false,
    "run_control": {
     "read_only": false
    }
   },
   "outputs": [
    {
     "data": {
      "text/plain": [
       "array([9.196413, 9.203787, 9.217784, 9.198247, 9.217721, 9.226204,\n",
       "       9.221451, 9.220725, 9.213909, 9.208625], dtype=float32)"
      ]
     },
     "execution_count": 32,
     "metadata": {},
     "output_type": "execute_result"
    }
   ],
   "source": [
    "session.run(loss, feed_dict)[:10]"
   ]
  },
  {
   "cell_type": "markdown",
   "metadata": {},
   "source": [
    "Now, we define loss as average of the losses:"
   ]
  },
  {
   "cell_type": "code",
   "execution_count": 33,
   "metadata": {
    "button": false,
    "collapsed": true,
    "deletable": true,
    "new_sheet": false,
    "run_control": {
     "read_only": false
    }
   },
   "outputs": [
    {
     "data": {
      "text/plain": [
       "184.19531"
      ]
     },
     "execution_count": 33,
     "metadata": {},
     "output_type": "execute_result"
    }
   ],
   "source": [
    "cost = tf.reduce_sum(loss) / batch_size\n",
    "session.run(tf.global_variables_initializer())\n",
    "session.run(cost, feed_dict)\n"
   ]
  },
  {
   "cell_type": "markdown",
   "metadata": {
    "button": false,
    "deletable": true,
    "new_sheet": false,
    "run_control": {
     "read_only": false
    }
   },
   "source": [
    "<h3>Training</h3>\n",
    "\n",
    "To do training for our network, we have to take the following steps:\n",
    "<ol>\n",
    "    <li>Define the optimizer.</li>\n",
    "    <li>Extract variables that are trainable.</li>\n",
    "    <li>Calculate the gradients based on the loss function.</li>\n",
    "    <li>Apply the optimizer to the variables/gradients tuple.</li>\n",
    "</ol>"
   ]
  },
  {
   "cell_type": "markdown",
   "metadata": {
    "button": false,
    "deletable": true,
    "new_sheet": false,
    "run_control": {
     "read_only": false
    }
   },
   "source": [
    "<h4>1. Define Optimizer</h4>\n",
    "\n",
    "<b>GradientDescentOptimizer</b> constructs a new gradient descent optimizer. Later, we use constructed <b>optimizer</b> to compute gradients for a loss and apply gradients to variables."
   ]
  },
  {
   "cell_type": "code",
   "execution_count": 34,
   "metadata": {
    "button": false,
    "collapsed": true,
    "deletable": true,
    "new_sheet": false,
    "run_control": {
     "read_only": false
    }
   },
   "outputs": [],
   "source": [
    "# Create a variable for the learning rate\n",
    "lr = tf.Variable(0.0, trainable=False)\n",
    "# Create the gradient descent optimizer with our learning rate\n",
    "optimizer = tf.train.GradientDescentOptimizer(lr)"
   ]
  },
  {
   "cell_type": "markdown",
   "metadata": {
    "button": false,
    "deletable": true,
    "new_sheet": false,
    "run_control": {
     "read_only": false
    }
   },
   "source": [
    "\n",
    "<h4>2. Trainable Variables</h4>"
   ]
  },
  {
   "cell_type": "markdown",
   "metadata": {
    "button": false,
    "deletable": true,
    "new_sheet": false,
    "run_control": {
     "read_only": false
    }
   },
   "source": [
    "Defining a variable, if you passed <i>trainable=True</i>, the variable constructor automatically adds new variables to the graph collection <b>GraphKeys.TRAINABLE_VARIABLES</b>. Now, using <i>tf.trainable_variables()</i> you can get all variables created with <b>trainable=True</b>."
   ]
  },
  {
   "cell_type": "code",
   "execution_count": 35,
   "metadata": {
    "button": false,
    "collapsed": true,
    "deletable": true,
    "new_sheet": false,
    "run_control": {
     "read_only": false
    }
   },
   "outputs": [
    {
     "data": {
      "text/plain": [
       "[<tf.Variable 'embedding_vocab:0' shape=(10000, 256) dtype=float32_ref>,\n",
       " <tf.Variable 'rnn/multi_rnn_cell/cell_0/basic_lstm_cell/kernel:0' shape=(512, 1024) dtype=float32_ref>,\n",
       " <tf.Variable 'rnn/multi_rnn_cell/cell_0/basic_lstm_cell/bias:0' shape=(1024,) dtype=float32_ref>,\n",
       " <tf.Variable 'rnn/multi_rnn_cell/cell_1/basic_lstm_cell/kernel:0' shape=(384, 512) dtype=float32_ref>,\n",
       " <tf.Variable 'rnn/multi_rnn_cell/cell_1/basic_lstm_cell/bias:0' shape=(512,) dtype=float32_ref>,\n",
       " <tf.Variable 'softmax_w:0' shape=(128, 10000) dtype=float32_ref>,\n",
       " <tf.Variable 'softmax_b:0' shape=(10000,) dtype=float32_ref>]"
      ]
     },
     "execution_count": 35,
     "metadata": {},
     "output_type": "execute_result"
    }
   ],
   "source": [
    "# Get all TensorFlow variables marked as \"trainable\" (i.e. all of them except _lr, which we just created)\n",
    "tvars = tf.trainable_variables()\n",
    "tvars"
   ]
  },
  {
   "cell_type": "markdown",
   "metadata": {
    "button": false,
    "deletable": true,
    "new_sheet": false,
    "run_control": {
     "read_only": false
    }
   },
   "source": [
    "Note: we can find the name and scope of all variables:"
   ]
  },
  {
   "cell_type": "code",
   "execution_count": 36,
   "metadata": {
    "button": false,
    "collapsed": true,
    "deletable": true,
    "new_sheet": false,
    "run_control": {
     "read_only": false
    }
   },
   "outputs": [
    {
     "data": {
      "text/plain": [
       "['embedding_vocab:0',\n",
       " 'rnn/multi_rnn_cell/cell_0/basic_lstm_cell/kernel:0',\n",
       " 'rnn/multi_rnn_cell/cell_0/basic_lstm_cell/bias:0',\n",
       " 'rnn/multi_rnn_cell/cell_1/basic_lstm_cell/kernel:0',\n",
       " 'rnn/multi_rnn_cell/cell_1/basic_lstm_cell/bias:0',\n",
       " 'softmax_w:0',\n",
       " 'softmax_b:0']"
      ]
     },
     "execution_count": 36,
     "metadata": {},
     "output_type": "execute_result"
    }
   ],
   "source": [
    "[v.name for v in tvars]"
   ]
  },
  {
   "cell_type": "markdown",
   "metadata": {
    "button": false,
    "deletable": true,
    "new_sheet": false,
    "run_control": {
     "read_only": false
    }
   },
   "source": [
    "<h4>3. Calculate the gradients based on the loss function</h4>"
   ]
  },
  {
   "cell_type": "markdown",
   "metadata": {
    "button": false,
    "deletable": true,
    "new_sheet": false,
    "run_control": {
     "read_only": false
    }
   },
   "source": [
    "<h4>Gradient</h4>:\n",
    "The gradient of a function is the slope of its derivative (line), or in other words, the rate of change of a function. It's a vector (a direction to move) that points in the direction of greatest increase of the function, and calculated by the <b>derivative</b> operation.\n",
    "\n",
    "First lets recall the gradient function using an toy example:\n",
    "$$ z = \\left(2x^2 + 3xy\\right)$$"
   ]
  },
  {
   "cell_type": "code",
   "execution_count": 37,
   "metadata": {
    "button": false,
    "collapsed": true,
    "deletable": true,
    "new_sheet": false,
    "run_control": {
     "read_only": false
    }
   },
   "outputs": [
    {
     "data": {
      "text/plain": [
       "8.0"
      ]
     },
     "execution_count": 37,
     "metadata": {},
     "output_type": "execute_result"
    }
   ],
   "source": [
    "var_x = tf.placeholder(tf.float32)\n",
    "var_y = tf.placeholder(tf.float32) \n",
    "func_test = 2.0 * var_x * var_x + 3.0 * var_x * var_y\n",
    "session.run(tf.global_variables_initializer())\n",
    "session.run(func_test, {var_x:1.0,var_y:2.0})"
   ]
  },
  {
   "cell_type": "markdown",
   "metadata": {
    "button": false,
    "deletable": true,
    "new_sheet": false,
    "run_control": {
     "read_only": false
    }
   },
   "source": [
    "The <b>tf.gradients()</b> function allows you to compute the symbolic gradient of one tensor with respect to one or more other tensors—including variables. <b>tf.gradients(func, xs)</b> constructs symbolic partial derivatives of sum of <b>func</b> w.r.t. <i>x</i> in <b>xs</b>. \n",
    "\n",
    "Now, lets look at the derivitive w.r.t. <b>var_x</b>:\n",
    "$$ \\frac{\\partial \\:}{\\partial \\:x}\\left(2x^2 + 3xy\\right) = 4x + 3y $$\n"
   ]
  },
  {
   "cell_type": "code",
   "execution_count": 38,
   "metadata": {
    "button": false,
    "collapsed": true,
    "deletable": true,
    "new_sheet": false,
    "run_control": {
     "read_only": false
    }
   },
   "outputs": [
    {
     "data": {
      "text/plain": [
       "[10.0]"
      ]
     },
     "execution_count": 38,
     "metadata": {},
     "output_type": "execute_result"
    }
   ],
   "source": [
    "var_grad = tf.gradients(func_test, [var_x])\n",
    "session.run(var_grad, {var_x:1.0,var_y:2.0})"
   ]
  },
  {
   "cell_type": "markdown",
   "metadata": {
    "button": false,
    "deletable": true,
    "new_sheet": false,
    "run_control": {
     "read_only": false
    }
   },
   "source": [
    "the derivative w.r.t. <b>var_y</b>:\n",
    "$$ \\frac{\\partial \\:}{\\partial \\:x}\\left(2x^2 + 3xy\\right) = 3x $$"
   ]
  },
  {
   "cell_type": "code",
   "execution_count": 39,
   "metadata": {
    "button": false,
    "collapsed": true,
    "deletable": true,
    "new_sheet": false,
    "run_control": {
     "read_only": false
    }
   },
   "outputs": [
    {
     "data": {
      "text/plain": [
       "[3.0]"
      ]
     },
     "execution_count": 39,
     "metadata": {},
     "output_type": "execute_result"
    }
   ],
   "source": [
    "var_grad = tf.gradients(func_test, [var_y])\n",
    "session.run(var_grad, {var_x:1.0, var_y:2.0})"
   ]
  },
  {
   "cell_type": "markdown",
   "metadata": {
    "button": false,
    "deletable": true,
    "new_sheet": false,
    "run_control": {
     "read_only": false
    }
   },
   "source": [
    "Now, we can look at gradients w.r.t all variables:"
   ]
  },
  {
   "cell_type": "code",
   "execution_count": 40,
   "metadata": {
    "button": false,
    "collapsed": true,
    "deletable": true,
    "new_sheet": false,
    "run_control": {
     "read_only": false
    }
   },
   "outputs": [
    {
     "data": {
      "text/plain": [
       "[<tensorflow.python.framework.ops.IndexedSlices at 0x7f39a477bb38>,\n",
       " <tf.Tensor 'gradients_2/rnn/while/rnn/multi_rnn_cell/cell_0/basic_lstm_cell/MatMul/Enter_grad/b_acc_3:0' shape=(512, 1024) dtype=float32>,\n",
       " <tf.Tensor 'gradients_2/rnn/while/rnn/multi_rnn_cell/cell_0/basic_lstm_cell/BiasAdd/Enter_grad/b_acc_3:0' shape=(1024,) dtype=float32>,\n",
       " <tf.Tensor 'gradients_2/rnn/while/rnn/multi_rnn_cell/cell_1/basic_lstm_cell/MatMul/Enter_grad/b_acc_3:0' shape=(384, 512) dtype=float32>,\n",
       " <tf.Tensor 'gradients_2/rnn/while/rnn/multi_rnn_cell/cell_1/basic_lstm_cell/BiasAdd/Enter_grad/b_acc_3:0' shape=(512,) dtype=float32>,\n",
       " <tf.Tensor 'gradients_2/MatMul_grad/MatMul_1:0' shape=(128, 10000) dtype=float32>,\n",
       " <tf.Tensor 'gradients_2/add_grad/Reshape_1:0' shape=(10000,) dtype=float32>]"
      ]
     },
     "execution_count": 40,
     "metadata": {},
     "output_type": "execute_result"
    }
   ],
   "source": [
    "tf.gradients(cost, tvars)"
   ]
  },
  {
   "cell_type": "code",
   "execution_count": 41,
   "metadata": {
    "button": false,
    "collapsed": true,
    "deletable": true,
    "new_sheet": false,
    "run_control": {
     "read_only": false
    },
    "scrolled": true
   },
   "outputs": [],
   "source": [
    "grad_t_list = tf.gradients(cost, tvars)\n",
    "#sess.run(grad_t_list,feed_dict)"
   ]
  },
  {
   "cell_type": "markdown",
   "metadata": {
    "button": false,
    "deletable": true,
    "new_sheet": false,
    "run_control": {
     "read_only": false
    }
   },
   "source": [
    "\n",
    "\n",
    "\n",
    "now, we have a list of tensors, t-list. We can use it to find clipped tensors. <b>clip_by_global_norm</b> clips values of multiple tensors by the ratio of the sum of their norms.\n",
    "\n",
    "<b>clip_by_global_norm</b> get <i>t-list</i> as input and returns 2 things:\n",
    "<ul>\n",
    "    <li>a list of clipped tensors, so called <i>list_clipped</i></li> \n",
    "    <li>the global norm (global_norm) of all tensors in t_list</li> \n",
    "</ul>"
   ]
  },
  {
   "cell_type": "code",
   "execution_count": 42,
   "metadata": {
    "button": false,
    "collapsed": true,
    "deletable": true,
    "new_sheet": false,
    "run_control": {
     "read_only": false
    }
   },
   "outputs": [
    {
     "data": {
      "text/plain": [
       "[<tensorflow.python.framework.ops.IndexedSlices at 0x7f39a47d7748>,\n",
       " <tf.Tensor 'clip_by_global_norm/clip_by_global_norm/_1:0' shape=(512, 1024) dtype=float32>,\n",
       " <tf.Tensor 'clip_by_global_norm/clip_by_global_norm/_2:0' shape=(1024,) dtype=float32>,\n",
       " <tf.Tensor 'clip_by_global_norm/clip_by_global_norm/_3:0' shape=(384, 512) dtype=float32>,\n",
       " <tf.Tensor 'clip_by_global_norm/clip_by_global_norm/_4:0' shape=(512,) dtype=float32>,\n",
       " <tf.Tensor 'clip_by_global_norm/clip_by_global_norm/_5:0' shape=(128, 10000) dtype=float32>,\n",
       " <tf.Tensor 'clip_by_global_norm/clip_by_global_norm/_6:0' shape=(10000,) dtype=float32>]"
      ]
     },
     "execution_count": 42,
     "metadata": {},
     "output_type": "execute_result"
    }
   ],
   "source": [
    "# Define the gradient clipping threshold\n",
    "grads, _ = tf.clip_by_global_norm(grad_t_list, max_grad_norm)\n",
    "grads"
   ]
  },
  {
   "cell_type": "code",
   "execution_count": 43,
   "metadata": {
    "button": false,
    "collapsed": true,
    "deletable": true,
    "new_sheet": false,
    "run_control": {
     "read_only": false
    }
   },
   "outputs": [
    {
     "data": {
      "text/plain": [
       "[IndexedSlicesValue(values=array([[ 2.3438235e-05,  4.4252083e-06,  8.2612860e-06, ...,\n",
       "          3.3052859e-06, -9.6803960e-06,  1.1195397e-05],\n",
       "        [ 1.2719583e-05, -3.5806292e-07,  8.2102088e-06, ...,\n",
       "         -1.2630773e-06, -8.9857976e-06,  4.1114849e-06],\n",
       "        [ 7.8995035e-06,  4.0774512e-06,  7.0942629e-06, ...,\n",
       "         -8.5605952e-06,  1.4383268e-06, -1.4088751e-06],\n",
       "        ...,\n",
       "        [-5.2899563e-06, -9.0524304e-07,  1.7406615e-05, ...,\n",
       "          1.4900328e-05,  7.0561696e-06, -1.4223061e-05],\n",
       "        [-4.3889108e-06,  2.1950987e-06,  1.3743609e-05, ...,\n",
       "          5.1244301e-06,  3.4209024e-06, -1.4298772e-05],\n",
       "        [-1.0955118e-06, -5.6602465e-07,  1.1230759e-05, ...,\n",
       "          3.3915742e-06,  2.4509443e-06, -3.7067946e-06]], dtype=float32), indices=array([9970, 9971, 9972, ..., 2043,   23,    1], dtype=int32), dense_shape=array([10000,   256], dtype=int32)),\n",
       " array([[ 1.71412196e-07,  9.03413344e-10, -3.51870426e-08, ...,\n",
       "          4.63402872e-09, -2.00166870e-08, -3.44048452e-08],\n",
       "        [-1.11587404e-07,  7.46840989e-09,  6.90987392e-08, ...,\n",
       "         -2.09200852e-08,  1.58119420e-08, -2.67213203e-08],\n",
       "        [ 7.35516679e-08,  1.63235914e-08, -2.75777374e-08, ...,\n",
       "          2.65156963e-09,  5.91401168e-08, -6.37466524e-09],\n",
       "        ...,\n",
       "        [ 8.39249559e-09,  3.15209636e-09,  2.83426926e-09, ...,\n",
       "         -8.17158519e-09,  2.22293117e-09,  7.29473149e-09],\n",
       "        [ 8.20546919e-09, -6.90890722e-09, -5.05747499e-10, ...,\n",
       "          2.23295249e-09, -4.16664259e-09,  2.22904251e-10],\n",
       "        [-1.04608864e-08,  2.00139336e-10, -1.03453068e-09, ...,\n",
       "         -1.65403724e-09, -4.18729140e-09, -1.33284370e-08]], dtype=float32),\n",
       " array([ 2.1591518e-06, -7.1840299e-07,  6.6651575e-07, ...,\n",
       "         2.0821894e-06, -2.1051760e-06, -2.8547324e-06], dtype=float32),\n",
       " array([[-6.7190364e-09,  3.9910897e-09, -5.6508274e-09, ...,\n",
       "         -6.5637384e-11, -3.0332075e-09, -9.9384989e-10],\n",
       "        [-6.6285968e-09, -2.7536133e-09, -4.6244550e-09, ...,\n",
       "         -1.3566790e-09, -1.9047230e-09, -2.6662097e-09],\n",
       "        [ 2.6387530e-09, -4.7787956e-09, -2.2139655e-09, ...,\n",
       "         -7.0108230e-10, -2.4501245e-09,  2.2428712e-09],\n",
       "        ...,\n",
       "        [-2.4251299e-09,  5.7879412e-10, -6.6948985e-10, ...,\n",
       "          8.1540824e-10, -1.7788375e-09,  2.3132865e-09],\n",
       "        [ 6.3585121e-10,  2.0311501e-09, -6.0960531e-10, ...,\n",
       "          1.4330888e-09, -2.4163702e-09, -4.9892264e-09],\n",
       "        [-1.0438231e-09,  9.2456598e-12, -6.5008038e-10, ...,\n",
       "         -3.2512941e-09, -9.5524345e-11,  5.7060485e-09]], dtype=float32),\n",
       " array([ 2.76439550e-07,  4.30641165e-07, -1.57643581e-06, -4.26138467e-06,\n",
       "        -4.72049578e-06,  1.16290767e-06,  1.93780784e-06, -4.16130615e-06,\n",
       "        -1.83680754e-07,  3.67535881e-06,  5.35552374e-07,  1.94483209e-06,\n",
       "         1.10582141e-06,  2.55115265e-06,  3.12404950e-06, -3.35703862e-06,\n",
       "        -2.24763698e-06,  1.08356699e-06,  3.92156653e-06, -3.89622073e-06,\n",
       "         1.14339343e-06, -6.78202923e-07,  6.64034417e-07, -9.87865974e-07,\n",
       "         9.93406502e-06, -1.26028715e-06,  8.45704380e-06, -4.31254875e-06,\n",
       "         3.61237244e-06,  6.21812751e-06,  4.17574483e-06, -2.74313606e-06,\n",
       "         1.14518082e-06, -1.69945952e-06,  1.22163874e-06,  4.43437057e-06,\n",
       "        -2.94559413e-06,  4.79038181e-06, -1.23888162e-06,  1.66749680e-06,\n",
       "        -7.92176070e-06, -1.49934185e-05, -5.19129344e-07,  9.07812819e-07,\n",
       "        -3.79028279e-06,  5.48095613e-07, -4.86506622e-08, -7.54569555e-06,\n",
       "         2.81578195e-06,  2.28180920e-06, -2.17642855e-06,  6.34868775e-06,\n",
       "         6.70583222e-06, -1.93588198e-06,  6.71055204e-06,  9.43577561e-07,\n",
       "         2.25312442e-06, -5.99616624e-06,  1.33878052e-06,  2.85496890e-06,\n",
       "         1.80856728e-06,  4.64720006e-06,  2.07728544e-06,  1.85733438e-06,\n",
       "         2.18220953e-06, -5.76276625e-06,  1.56436181e-06,  1.12966609e-06,\n",
       "         1.08582844e-06,  3.96201949e-06, -4.09825088e-06, -6.51840401e-06,\n",
       "        -2.46708026e-07,  3.55431712e-06,  7.89501246e-06, -5.40398196e-06,\n",
       "        -2.40713189e-06,  2.34294157e-06, -3.19020660e-06,  7.13385361e-06,\n",
       "         1.30108901e-07, -7.75705394e-06,  1.16253091e-06,  8.37543757e-06,\n",
       "         2.70830128e-06,  5.54295138e-06, -7.02247780e-06, -3.41732471e-06,\n",
       "         1.74835873e-06,  2.99067392e-06, -3.94251811e-06,  4.34933781e-06,\n",
       "        -3.29631780e-06, -3.73437979e-06, -6.01735746e-06,  6.16605894e-06,\n",
       "         4.58628756e-06,  2.24122095e-06, -3.00670922e-06, -3.46899674e-06,\n",
       "        -3.75752165e-06, -2.63273341e-06, -2.85602891e-06,  2.45935826e-06,\n",
       "        -2.21184180e-07, -3.44241585e-07, -1.23328764e-05,  2.35455968e-06,\n",
       "        -3.22222786e-06,  2.44755114e-07, -4.43927092e-06, -2.25442307e-07,\n",
       "        -3.29785303e-06,  3.14705881e-06,  3.08504036e-06, -2.42282613e-06,\n",
       "         6.34999515e-06,  8.97797690e-06,  2.17481102e-06,  7.36375614e-06,\n",
       "         2.82949713e-06,  4.97826159e-06, -2.79903247e-07, -1.35126493e-05,\n",
       "         1.10820099e-06, -2.62545132e-06,  1.31880574e-06,  8.81768528e-07,\n",
       "         1.98481157e-02,  1.24988249e-02, -1.85606023e-03,  3.42217763e-03,\n",
       "        -2.73170024e-02,  3.04546161e-03,  2.64580939e-02, -1.58021152e-02,\n",
       "         1.32309217e-02, -1.00959949e-02,  1.99903268e-02, -1.05188405e-02,\n",
       "         2.02983748e-02,  2.25803512e-03, -3.68790552e-02, -1.12126512e-03,\n",
       "        -1.23433862e-02,  9.22641996e-03, -7.05153216e-03,  2.06952877e-02,\n",
       "        -8.90025031e-03,  4.03248752e-03, -3.83824902e-03, -1.80907473e-02,\n",
       "         2.55900454e-02, -5.56813320e-05,  8.45386088e-03, -1.43123502e-02,\n",
       "         9.28245112e-03,  6.41765352e-03, -1.79583151e-02,  4.81217029e-03,\n",
       "        -3.71117168e-03,  1.86598208e-02, -1.35792661e-02, -1.54465307e-02,\n",
       "        -1.81609076e-02, -4.92979493e-03,  3.22318985e-03, -9.31389816e-03,\n",
       "        -2.03238484e-02, -3.20463143e-02,  3.17836888e-02,  1.09520759e-02,\n",
       "         5.15285507e-03,  5.77419810e-03,  1.31361997e-02, -1.83864385e-02,\n",
       "        -6.46465225e-03,  3.58088233e-04,  1.02039520e-03,  2.00725142e-02,\n",
       "        -2.96263285e-02,  1.86966453e-02, -9.31377243e-03, -3.08796149e-02,\n",
       "        -4.84793959e-03,  4.98385262e-03,  2.67220102e-03, -1.39581887e-02,\n",
       "        -2.51801219e-02, -1.19110197e-02,  3.86459799e-03, -1.54341208e-02,\n",
       "        -6.83908537e-03, -8.53103399e-03,  1.33871650e-02,  1.47066554e-02,\n",
       "        -2.02822052e-02,  6.66850945e-03, -2.53768987e-03, -4.18128213e-03,\n",
       "         1.05946921e-02,  3.12569477e-02, -2.17069760e-02, -7.42624840e-03,\n",
       "         4.16929775e-04,  1.33010400e-02,  2.05181725e-02,  6.11213408e-03,\n",
       "         4.10802662e-03, -1.46750286e-02,  2.42732428e-02,  5.08453511e-03,\n",
       "         3.16033699e-02, -3.04862065e-03, -1.61976721e-02,  2.33239867e-02,\n",
       "        -1.59624629e-02,  2.40435619e-02, -1.09024663e-02, -6.35383697e-03,\n",
       "         2.75894515e-02, -6.91851322e-03, -1.72568336e-02,  2.97714071e-03,\n",
       "         6.11169497e-03,  9.43877548e-03,  4.33135685e-03, -1.35329226e-02,\n",
       "        -1.86359137e-03, -2.20472296e-03,  7.12864753e-03, -1.23612024e-02,\n",
       "        -1.74086057e-02,  1.78889427e-02, -3.56312171e-02, -2.20775735e-02,\n",
       "         1.48338508e-02,  2.01432337e-03, -8.60135071e-03,  1.61937810e-02,\n",
       "         1.56132989e-02, -1.49903148e-02,  7.82015733e-03,  3.88436369e-04,\n",
       "        -2.30037421e-02, -1.31951822e-02,  1.48321502e-02, -2.22828072e-02,\n",
       "        -7.95645267e-03, -2.25880928e-02, -8.22782796e-03,  3.14751528e-02,\n",
       "        -2.50574970e-03, -6.19617617e-03, -3.58810648e-03,  1.09531395e-02,\n",
       "        -1.90857861e-07,  2.36191067e-06, -1.61214939e-06, -2.95664722e-06,\n",
       "        -3.61306115e-06,  1.87944522e-06, -1.74081350e-07, -1.65328004e-06,\n",
       "         1.94108395e-07,  2.18670471e-06, -3.92352263e-07,  3.12788006e-06,\n",
       "        -2.38495318e-06,  7.53976792e-08,  3.78982145e-06, -7.57457826e-07,\n",
       "        -3.97511167e-06,  9.53891231e-07,  2.25167312e-07, -2.56033763e-06,\n",
       "        -2.92083683e-07, -1.76477556e-06,  1.70478461e-06, -3.28784608e-06,\n",
       "         7.63090520e-06,  2.70894725e-06,  2.31149897e-06, -5.19882724e-06,\n",
       "         3.97388294e-06,  5.04752370e-06,  3.07013124e-06, -3.17913054e-06,\n",
       "        -6.97467897e-08, -1.94312861e-06,  1.26060490e-06,  3.30613966e-06,\n",
       "        -2.12409486e-06,  4.19474100e-06,  6.09567792e-07,  2.21787877e-06,\n",
       "        -5.63428466e-06, -1.22751517e-05, -7.15866122e-07,  2.75358457e-06,\n",
       "        -5.87403520e-07,  3.62217634e-09, -1.12415285e-06, -6.34456001e-06,\n",
       "         1.23065342e-06,  3.02738476e-06,  1.30833564e-06,  5.81105542e-06,\n",
       "         9.82948040e-06, -1.13856481e-06,  5.33170669e-06, -3.96562314e-07,\n",
       "         2.00050209e-07, -5.54817416e-06,  3.09636039e-06,  5.37429014e-06,\n",
       "         6.89541025e-07,  1.45455601e-06,  8.04448405e-07,  2.18706055e-06,\n",
       "         4.34530557e-06, -5.24139250e-06,  1.91552544e-06,  2.52329323e-06,\n",
       "         6.59075795e-07,  4.82059841e-06, -6.11662585e-07, -5.85534826e-06,\n",
       "        -1.11896475e-06,  2.73992418e-06,  3.59187061e-06, -4.99781345e-06,\n",
       "         3.66569168e-07,  4.82561290e-06, -4.36949131e-06,  5.72350245e-06,\n",
       "         1.62859152e-07, -4.51067126e-06,  5.28162332e-07,  6.60404385e-06,\n",
       "         2.67295741e-06,  4.55316740e-06, -4.16580860e-06, -2.47106573e-06,\n",
       "         2.58023692e-06,  1.20522134e-06, -1.92564175e-06,  3.59604087e-06,\n",
       "        -6.43643853e-06, -4.64463619e-06, -3.58045804e-06,  2.11536781e-06,\n",
       "         3.61044499e-06,  4.82015594e-07, -4.21082677e-06, -2.83812528e-06,\n",
       "        -2.11408951e-06,  1.72361092e-06, -1.87192404e-06,  2.15714272e-06,\n",
       "         5.33098728e-07,  2.66642860e-06, -8.67969629e-06,  1.74116064e-06,\n",
       "        -2.57939132e-06, -1.45120202e-06, -2.84433963e-06, -7.12550275e-07,\n",
       "        -2.98756981e-06,  2.22987569e-06,  3.16425280e-06, -3.83076713e-06,\n",
       "         2.99113435e-06,  5.87829800e-06,  4.36048958e-06,  4.04216507e-06,\n",
       "         5.75882439e-07,  2.99862995e-06, -1.78296386e-06, -1.28540587e-05,\n",
       "         1.27409658e-06, -1.70175053e-06,  1.47232561e-06,  1.92175958e-06,\n",
       "         2.71702845e-07,  4.31576098e-07, -1.58284683e-06, -4.26795441e-06,\n",
       "        -4.71833437e-06,  1.16824765e-06,  1.93709548e-06, -4.15982686e-06,\n",
       "        -1.83905030e-07,  3.67426446e-06,  5.41522525e-07,  1.95191888e-06,\n",
       "         1.10547057e-06,  2.54975021e-06,  3.13083774e-06, -3.35703317e-06,\n",
       "        -2.24184396e-06,  1.08603376e-06,  3.92222773e-06, -3.89664547e-06,\n",
       "         1.13920487e-06, -6.80976314e-07,  6.71190605e-07, -9.84877829e-07,\n",
       "         9.93429876e-06, -1.25893246e-06,  8.45807972e-06, -4.30497721e-06,\n",
       "         3.61128855e-06,  6.21390382e-06,  4.16668445e-06, -2.73913179e-06,\n",
       "         1.14560817e-06, -1.70910562e-06,  1.22317124e-06,  4.43492354e-06,\n",
       "        -2.94919369e-06,  4.78665334e-06, -1.23180473e-06,  1.67325652e-06,\n",
       "        -7.91998082e-06, -1.49923198e-05, -5.18317279e-07,  9.09717016e-07,\n",
       "        -3.79304106e-06,  5.51116614e-07, -4.67912855e-08, -7.54009807e-06,\n",
       "         2.81107350e-06,  2.28195086e-06, -2.17847924e-06,  6.35113338e-06,\n",
       "         6.69622159e-06, -1.93713731e-06,  6.71616135e-06,  9.45081183e-07,\n",
       "         2.25214194e-06, -5.99979194e-06,  1.34090578e-06,  2.86369914e-06,\n",
       "         1.80934830e-06,  4.64184859e-06,  2.07803851e-06,  1.85659746e-06,\n",
       "         2.18204059e-06, -5.76606726e-06,  1.56592466e-06,  1.12949760e-06,\n",
       "         1.07595429e-06,  3.96340783e-06, -4.09640461e-06, -6.52066365e-06,\n",
       "        -2.44766198e-07,  3.55267730e-06,  7.89584010e-06, -5.40276005e-06,\n",
       "        -2.40478698e-06,  2.33842457e-06, -3.19207948e-06,  7.13550480e-06,\n",
       "         1.26221835e-07, -7.76412253e-06,  1.16079570e-06,  8.36695381e-06,\n",
       "         2.70691908e-06,  5.53983637e-06, -7.01289127e-06, -3.41919053e-06,\n",
       "         1.74756462e-06,  2.99226326e-06, -3.94265680e-06,  4.34666754e-06,\n",
       "        -3.29813247e-06, -3.73751664e-06, -6.00559042e-06,  6.15877752e-06,\n",
       "         4.58435989e-06,  2.24468158e-06, -3.00396823e-06, -3.47240530e-06,\n",
       "        -3.75815262e-06, -2.63621632e-06, -2.85945544e-06,  2.45850060e-06,\n",
       "        -2.21056368e-07, -3.50347136e-07, -1.23351756e-05,  2.35783364e-06,\n",
       "        -3.21879998e-06,  2.43684127e-07, -4.43686940e-06, -2.30330159e-07,\n",
       "        -3.30443322e-06,  3.13928240e-06,  3.08387234e-06, -2.42200258e-06,\n",
       "         6.34536218e-06,  8.97759855e-06,  2.17488537e-06,  7.37004984e-06,\n",
       "         2.82796941e-06,  4.97686779e-06, -2.79443157e-07, -1.35212094e-05,\n",
       "         1.10531380e-06, -2.62342473e-06,  1.31849765e-06,  8.80061634e-07],\n",
       "       dtype=float32),\n",
       " array([[ 1.9675877e-04,  2.3499108e-04,  1.7729118e-04, ...,\n",
       "         -2.3404800e-07, -2.3133956e-07, -2.3172242e-07],\n",
       "        [-3.3552107e-05,  8.2666498e-05, -2.1486794e-06, ...,\n",
       "         -9.0961919e-08, -8.9951570e-08, -9.0088207e-08],\n",
       "        [ 3.3026180e-04,  5.3541432e-04,  2.4326501e-04, ...,\n",
       "         -6.3996043e-07, -6.3249047e-07, -6.3362484e-07],\n",
       "        ...,\n",
       "        [-2.0280351e-04, -1.7402010e-04, -1.6540001e-04, ...,\n",
       "          5.1168126e-07,  5.0575022e-07,  5.0664016e-07],\n",
       "        [ 1.0738017e-04,  4.3152744e-05,  1.4343689e-04, ...,\n",
       "         -1.9610015e-07, -1.9382446e-07, -1.9417705e-07],\n",
       "        [ 6.2473904e-05, -1.2096782e-05, -5.0826035e-05, ...,\n",
       "          5.5986227e-08,  5.5332187e-08,  5.5446222e-08]], dtype=float32),\n",
       " array([-0.7813299 , -1.0980413 , -0.9813373 , ...,  0.00202406,\n",
       "         0.00200064,  0.0020042 ], dtype=float32)]"
      ]
     },
     "execution_count": 43,
     "metadata": {},
     "output_type": "execute_result"
    }
   ],
   "source": [
    "session.run(grads, feed_dict)"
   ]
  },
  {
   "cell_type": "markdown",
   "metadata": {
    "button": false,
    "deletable": true,
    "new_sheet": false,
    "run_control": {
     "read_only": false
    }
   },
   "source": [
    "<h4>4. Apply the optimizer to the variables / gradients tuple.</h4>"
   ]
  },
  {
   "cell_type": "code",
   "execution_count": 44,
   "metadata": {
    "button": false,
    "collapsed": true,
    "deletable": true,
    "new_sheet": false,
    "run_control": {
     "read_only": false
    }
   },
   "outputs": [],
   "source": [
    "# Create the training TensorFlow Operation through our optimizer\n",
    "train_op = optimizer.apply_gradients(zip(grads, tvars))"
   ]
  },
  {
   "cell_type": "code",
   "execution_count": 45,
   "metadata": {
    "button": false,
    "collapsed": true,
    "deletable": true,
    "new_sheet": false,
    "run_control": {
     "read_only": false
    }
   },
   "outputs": [],
   "source": [
    "session.run(tf.global_variables_initializer())\n",
    "session.run(train_op, feed_dict)"
   ]
  },
  {
   "cell_type": "markdown",
   "metadata": {},
   "source": [
    "<a id=\"ltsm\"></a>\n",
    "<h2>LSTM</h2>"
   ]
  },
  {
   "cell_type": "markdown",
   "metadata": {
    "button": false,
    "deletable": true,
    "new_sheet": false,
    "run_control": {
     "read_only": false
    }
   },
   "source": [
    "We learned how the model is build step by step. Noe, let's then create a Class that represents our model. This class needs a few things:\n",
    "<ul>\n",
    "    <li>We have to create the model in accordance with our defined hyperparameters</li>\n",
    "    <li>We have to create the placeholders for our input data and expected outputs (the real data)</li>\n",
    "    <li>We have to create the LSTM cell structure and connect them with our RNN structure</li>\n",
    "    <li>We have to create the word embeddings and point them to the input data</li>\n",
    "    <li>We have to create the input structure for our RNN</li>\n",
    "    <li>We have to instantiate our RNN model and retrieve the variable in which we should expect our outputs to appear</li>\n",
    "    <li>We need to create a logistic structure to return the probability of our words</li>\n",
    "    <li>We need to create the loss and cost functions for our optimizer to work, and then create the optimizer</li>\n",
    "    <li>And finally, we need to create a training operation that can be run to actually train our model</li>\n",
    "</ul>"
   ]
  },
  {
   "cell_type": "code",
   "execution_count": 46,
   "metadata": {},
   "outputs": [
    {
     "data": {
      "text/plain": [
       "256"
      ]
     },
     "execution_count": 46,
     "metadata": {},
     "output_type": "execute_result"
    }
   ],
   "source": [
    "hidden_size_l1"
   ]
  },
  {
   "cell_type": "code",
   "execution_count": 1,
   "metadata": {
    "button": false,
    "collapsed": true,
    "deletable": true,
    "new_sheet": false,
    "run_control": {
     "read_only": false
    }
   },
   "outputs": [],
   "source": [
    "class PTBModel(object):\n",
    "\n",
    "    def __init__(self, action_type):\n",
    "        ######################################\n",
    "        # Setting parameters for ease of use #\n",
    "        ######################################\n",
    "        self.batch_size = batch_size\n",
    "        self.num_steps = num_steps\n",
    "        self.hidden_size_l1 = hidden_size_l1\n",
    "        self.hidden_size_l2 = hidden_size_l2\n",
    "        self.vocab_size = vocab_size\n",
    "        self.embeding_vector_size = embeding_vector_size\n",
    "        ###############################################################################\n",
    "        # Creating placeholders for our input data and expected outputs (target data) #\n",
    "        ###############################################################################\n",
    "        self._input_data = tf.placeholder(tf.int32, [batch_size, num_steps]) #[30#20]\n",
    "        self._targets = tf.placeholder(tf.int32, [batch_size, num_steps]) #[30#20]\n",
    "\n",
    "        ##########################################################################\n",
    "        # Creating the LSTM cell structure and connect it with the RNN structure #\n",
    "        ##########################################################################\n",
    "        # Create the LSTM unit. \n",
    "        # This creates only the structure for the LSTM and has to be associated with a RNN unit still.\n",
    "        # The argument n_hidden(size=200) of BasicLSTMCell is size of hidden layer, that is, the number of hidden units of the LSTM (inside A).\n",
    "        # Size is the same as the size of our hidden layer, and no bias is added to the Forget Gate. \n",
    "        # LSTM cell processes one word at a time and computes probabilities of the possible continuations of the sentence.\n",
    "        lstm_cell_l1 = tf.contrib.rnn.BasicLSTMCell(self.hidden_size_l1, forget_bias=0.0)\n",
    "        lstm_cell_l2 = tf.contrib.rnn.BasicLSTMCell(self.hidden_size_l2, forget_bias=0.0)\n",
    "        \n",
    "        # Unless you changed keep_prob, this won't actually execute -- this is a dropout wrapper for our LSTM unit\n",
    "        # This is an optimization of the LSTM output, but is not needed at all\n",
    "        if action_type == \"is_training\" and keep_prob < 1:\n",
    "            lstm_cell_l1 = tf.contrib.rnn.DropoutWrapper(lstm_cell_l1, output_keep_prob=keep_prob)\n",
    "            lstm_cell_l2 = tf.contrib.rnn.DropoutWrapper(lstm_cell_l2, output_keep_prob=keep_prob)\n",
    "        \n",
    "        # By taking in the LSTM cells as parameters, the MultiRNNCell function junctions the LSTM units to the RNN units.\n",
    "        # RNN cell composed sequentially of multiple simple cells.\n",
    "        stacked_lstm = tf.contrib.rnn.MultiRNNCell([lstm_cell_l1, lstm_cell_l2])\n",
    "\n",
    "        # Define the initial state, i.e., the model state for the very first data point\n",
    "        # It initialize the state of the LSTM memory. The memory state of the network is initialized with a vector of zeros and gets updated after reading each word.\n",
    "        self._initial_state = stacked_lstm.zero_state(batch_size, tf.float32)\n",
    "\n",
    "        ####################################################################\n",
    "        # Creating the word embeddings and pointing them to the input data #\n",
    "        ####################################################################\n",
    "        with tf.device(\"/cpu:0\"):\n",
    "            # Create the embeddings for our input data. Size is hidden size.\n",
    "            embedding = tf.get_variable(\"embedding\", [vocab_size, self.embeding_vector_size])  #[10000x200]\n",
    "            # Define where to get the data for our embeddings from\n",
    "            inputs = tf.nn.embedding_lookup(embedding, self._input_data)\n",
    "\n",
    "        # Unless you changed keep_prob, this won't actually execute -- this is a dropout addition for our inputs\n",
    "        # This is an optimization of the input processing and is not needed at all\n",
    "        if action_type == \"is_training\" and keep_prob < 1:\n",
    "            inputs = tf.nn.dropout(inputs, keep_prob)\n",
    "\n",
    "        ############################################\n",
    "        # Creating the input structure for our RNN #\n",
    "        ############################################\n",
    "        # Input structure is 20x[30x200]\n",
    "        # Considering each word is represended by a 200 dimentional vector, and we have 30 batchs, we create 30 word-vectors of size [30xx2000]\n",
    "        # inputs = [tf.squeeze(input_, [1]) for input_ in tf.split(1, num_steps, inputs)]\n",
    "        # The input structure is fed from the embeddings, which are filled in by the input data\n",
    "        # Feeding a batch of b sentences to a RNN:\n",
    "        # In step 1,  first word of each of the b sentences (in a batch) is input in parallel.  \n",
    "        # In step 2,  second word of each of the b sentences is input in parallel. \n",
    "        # The parallelism is only for efficiency.  \n",
    "        # Each sentence in a batch is handled in parallel, but the network sees one word of a sentence at a time and does the computations accordingly. \n",
    "        # All the computations involving the words of all sentences in a batch at a given time step are done in parallel. \n",
    "\n",
    "        ####################################################################################################\n",
    "        # Instantiating our RNN model and retrieving the structure for returning the outputs and the state #\n",
    "        ####################################################################################################\n",
    "        \n",
    "        outputs, state = tf.nn.dynamic_rnn(stacked_lstm, inputs, initial_state=self._initial_state)\n",
    "        #########################################################################\n",
    "        # Creating a logistic unit to return the probability of the output word #\n",
    "        #########################################################################\n",
    "        output = tf.reshape(outputs, [-1, self.hidden_size_l2])\n",
    "        softmax_w = tf.get_variable(\"softmax_w\", [self.hidden_size_l2, vocab_size]) #[200x1000]\n",
    "        softmax_b = tf.get_variable(\"softmax_b\", [vocab_size]) #[1x1000]\n",
    "        logits = tf.matmul(output, softmax_w) + softmax_b\n",
    "        logits = tf.reshape(logits, [self.batch_size, self.num_steps, vocab_size])\n",
    "        prob = tf.nn.softmax(logits)\n",
    "        out_words = tf.argmax(prob, axis=2)\n",
    "        self._output_words = out_words\n",
    "        #########################################################################\n",
    "        # Defining the loss and cost functions for the model's learning to work #\n",
    "        #########################################################################\n",
    "            \n",
    "\n",
    "        # Use the contrib sequence loss and average over the batches\n",
    "        loss = tf.contrib.seq2seq.sequence_loss(\n",
    "            logits,\n",
    "            self.targets,\n",
    "            tf.ones([batch_size, num_steps], dtype=tf.float32),\n",
    "            average_across_timesteps=False,\n",
    "            average_across_batch=True)\n",
    "    \n",
    "#         loss = tf.contrib.legacy_seq2seq.sequence_loss_by_example([logits], [tf.reshape(self._targets, [-1])],\n",
    "#                                                       [tf.ones([batch_size * num_steps])])\n",
    "        self._cost = tf.reduce_sum(loss)\n",
    "\n",
    "        # Store the final state\n",
    "        self._final_state = state\n",
    "\n",
    "        #Everything after this point is relevant only for training\n",
    "        if action_type != \"is_training\":\n",
    "            return\n",
    "\n",
    "        #################################################\n",
    "        # Creating the Training Operation for our Model #\n",
    "        #################################################\n",
    "        # Create a variable for the learning rate\n",
    "        self._lr = tf.Variable(0.0, trainable=False)\n",
    "        # Get all TensorFlow variables marked as \"trainable\" (i.e. all of them except _lr, which we just created)\n",
    "        tvars = tf.trainable_variables()\n",
    "        # Define the gradient clipping threshold\n",
    "        grads, _ = tf.clip_by_global_norm(tf.gradients(self._cost, tvars), max_grad_norm)\n",
    "        # Create the gradient descent optimizer with our learning rate\n",
    "        optimizer = tf.train.GradientDescentOptimizer(self.lr)\n",
    "        # Create the training TensorFlow Operation through our optimizer\n",
    "        self._train_op = optimizer.apply_gradients(zip(grads, tvars))\n",
    "\n",
    "    # Helper functions for our LSTM RNN class\n",
    "\n",
    "    # Assign the learning rate for this model\n",
    "    def assign_lr(self, session, lr_value):\n",
    "        session.run(tf.assign(self.lr, lr_value))\n",
    "\n",
    "    # Returns the input data for this model at a point in time\n",
    "    @property\n",
    "    def input_data(self):\n",
    "        return self._input_data\n",
    "\n",
    "\n",
    "    \n",
    "    # Returns the targets for this model at a point in time\n",
    "    @property\n",
    "    def targets(self):\n",
    "        return self._targets\n",
    "\n",
    "    # Returns the initial state for this model\n",
    "    @property\n",
    "    def initial_state(self):\n",
    "        return self._initial_state\n",
    "\n",
    "    # Returns the defined Cost\n",
    "    @property\n",
    "    def cost(self):\n",
    "        return self._cost\n",
    "\n",
    "    # Returns the final state for this model\n",
    "    @property\n",
    "    def final_state(self):\n",
    "        return self._final_state\n",
    "    \n",
    "    # Returns the final output words for this model\n",
    "    @property\n",
    "    def final_output_words(self):\n",
    "        return self._output_words\n",
    "    \n",
    "    # Returns the current learning rate for this model\n",
    "    @property\n",
    "    def lr(self):\n",
    "        return self._lr\n",
    "\n",
    "    # Returns the training operation defined for this model\n",
    "    @property\n",
    "    def train_op(self):\n",
    "        return self._train_op"
   ]
  },
  {
   "cell_type": "markdown",
   "metadata": {
    "button": false,
    "deletable": true,
    "new_sheet": false,
    "run_control": {
     "read_only": false
    }
   },
   "source": [
    "With that, the actual structure of our Recurrent Neural Network with Long Short-Term Memory is finished. What remains for us to do is to actually create the methods to run through time -- that is, the <code>run_epoch</code> method to be run at each epoch and a <code>main</code> script which ties all of this together.\n",
    "\n",
    "What our <code>run_epoch</code> method should do is take our input data and feed it to the relevant operations. This will return at the very least the current result for the cost function."
   ]
  },
  {
   "cell_type": "code",
   "execution_count": 48,
   "metadata": {
    "button": false,
    "collapsed": true,
    "deletable": true,
    "new_sheet": false,
    "run_control": {
     "read_only": false
    }
   },
   "outputs": [],
   "source": [
    "##########################################################################################################################\n",
    "# run_one_epoch takes as parameters the current session, the model instance, the data to be fed, and the operation to be run #\n",
    "##########################################################################################################################\n",
    "def run_one_epoch(session, m, data, eval_op, verbose=False):\n",
    "\n",
    "    #Define the epoch size based on the length of the data, batch size and the number of steps\n",
    "    epoch_size = ((len(data) // m.batch_size) - 1) // m.num_steps\n",
    "    start_time = time.time()\n",
    "    costs = 0.0\n",
    "    iters = 0\n",
    "\n",
    "    state = session.run(m.initial_state)\n",
    "    \n",
    "    #For each step and data point\n",
    "    for step, (x, y) in enumerate(reader.ptb_iterator(data, m.batch_size, m.num_steps)):\n",
    "        \n",
    "        #Evaluate and return cost, state by running cost, final_state and the function passed as parameter\n",
    "        cost, state, out_words, _ = session.run([m.cost, m.final_state, m.final_output_words, eval_op],\n",
    "                                     {m.input_data: x,\n",
    "                                      m.targets: y,\n",
    "                                      m.initial_state: state})\n",
    "\n",
    "        #Add returned cost to costs (which keeps track of the total costs for this epoch)\n",
    "        costs += cost\n",
    "        \n",
    "        #Add number of steps to iteration counter\n",
    "        iters += m.num_steps\n",
    "\n",
    "        if verbose and step % (epoch_size // 10) == 10:\n",
    "            print(\"Itr %d of %d, perplexity: %.3f speed: %.0f wps\" % (step , epoch_size, np.exp(costs / iters), iters * m.batch_size / (time.time() - start_time)))\n",
    "\n",
    "    # Returns the Perplexity rating for us to keep track of how the model is evolving\n",
    "    return np.exp(costs / iters)\n"
   ]
  },
  {
   "cell_type": "markdown",
   "metadata": {
    "button": false,
    "deletable": true,
    "new_sheet": false,
    "run_control": {
     "read_only": false
    }
   },
   "source": [
    "Now, we create the <code>main</code> method to tie everything together. The code here reads the data from the directory, using the <code>reader</code> helper module, and then trains and evaluates the model on both a testing and a validating subset of data."
   ]
  },
  {
   "cell_type": "code",
   "execution_count": 49,
   "metadata": {
    "button": false,
    "collapsed": true,
    "deletable": true,
    "new_sheet": false,
    "run_control": {
     "read_only": false
    }
   },
   "outputs": [],
   "source": [
    "# Reads the data and separates it into training data, validation data and testing data\n",
    "raw_data = reader.ptb_raw_data(data_dir)\n",
    "train_data, valid_data, test_data, _, _ = raw_data"
   ]
  },
  {
   "cell_type": "code",
   "execution_count": 50,
   "metadata": {
    "button": false,
    "collapsed": true,
    "deletable": true,
    "new_sheet": false,
    "run_control": {
     "read_only": false
    }
   },
   "outputs": [
    {
     "name": "stdout",
     "output_type": "stream",
     "text": [
      "Epoch 1 : Learning rate: 1.000\n",
      "Itr 10 of 774, perplexity: 4053.905 speed: 5768 wps\n",
      "Itr 87 of 774, perplexity: 1274.756 speed: 5978 wps\n",
      "Itr 164 of 774, perplexity: 976.400 speed: 5991 wps\n",
      "Itr 241 of 774, perplexity: 813.403 speed: 5997 wps\n",
      "Itr 318 of 774, perplexity: 721.492 speed: 6000 wps\n",
      "Itr 395 of 774, perplexity: 646.415 speed: 5946 wps\n",
      "Itr 472 of 774, perplexity: 586.194 speed: 5882 wps\n",
      "Itr 549 of 774, perplexity: 532.878 speed: 5861 wps\n",
      "Itr 626 of 774, perplexity: 490.010 speed: 5845 wps\n",
      "Itr 703 of 774, perplexity: 455.857 speed: 5832 wps\n",
      "Epoch 1 : Train Perplexity: 431.313\n",
      "Epoch 1 : Valid Perplexity: 236.451\n",
      "Epoch 2 : Learning rate: 1.000\n",
      "Itr 10 of 774, perplexity: 274.105 speed: 5627 wps\n",
      "Itr 87 of 774, perplexity: 237.944 speed: 5734 wps\n",
      "Itr 164 of 774, perplexity: 228.076 speed: 5738 wps\n",
      "Itr 241 of 774, perplexity: 218.716 speed: 5687 wps\n",
      "Itr 318 of 774, perplexity: 215.895 speed: 5699 wps\n",
      "Itr 395 of 774, perplexity: 210.284 speed: 5706 wps\n",
      "Itr 472 of 774, perplexity: 205.730 speed: 5710 wps\n",
      "Itr 549 of 774, perplexity: 199.033 speed: 5713 wps\n",
      "Itr 626 of 774, perplexity: 193.551 speed: 5717 wps\n",
      "Itr 703 of 774, perplexity: 189.392 speed: 5718 wps\n",
      "Epoch 2 : Train Perplexity: 186.549\n",
      "Epoch 2 : Valid Perplexity: 173.689\n",
      "Epoch 3 : Learning rate: 1.000\n",
      "Itr 10 of 774, perplexity: 184.747 speed: 5619 wps\n",
      "Itr 87 of 774, perplexity: 159.119 speed: 5738 wps\n",
      "Itr 164 of 774, perplexity: 155.665 speed: 5738 wps\n",
      "Itr 241 of 774, perplexity: 151.100 speed: 5740 wps\n",
      "Itr 318 of 774, perplexity: 151.136 speed: 5739 wps\n",
      "Itr 395 of 774, perplexity: 148.433 speed: 5740 wps\n",
      "Itr 472 of 774, perplexity: 146.872 speed: 5740 wps\n",
      "Itr 549 of 774, perplexity: 143.265 speed: 5739 wps\n",
      "Itr 626 of 774, perplexity: 140.465 speed: 5718 wps\n",
      "Itr 703 of 774, perplexity: 138.635 speed: 5721 wps\n",
      "Epoch 3 : Train Perplexity: 137.567\n",
      "Epoch 3 : Valid Perplexity: 151.496\n",
      "Epoch 4 : Learning rate: 1.000\n",
      "Itr 10 of 774, perplexity: 147.575 speed: 5575 wps\n",
      "Itr 87 of 774, perplexity: 126.849 speed: 5718 wps\n",
      "Itr 164 of 774, perplexity: 125.035 speed: 5726 wps\n",
      "Itr 241 of 774, perplexity: 121.883 speed: 5731 wps\n",
      "Itr 318 of 774, perplexity: 122.573 speed: 5734 wps\n",
      "Itr 395 of 774, perplexity: 120.671 speed: 5702 wps\n",
      "Itr 472 of 774, perplexity: 119.894 speed: 5707 wps\n",
      "Itr 549 of 774, perplexity: 117.250 speed: 5714 wps\n",
      "Itr 626 of 774, perplexity: 115.303 speed: 5716 wps\n",
      "Itr 703 of 774, perplexity: 114.214 speed: 5719 wps\n",
      "Epoch 4 : Train Perplexity: 113.691\n",
      "Epoch 4 : Valid Perplexity: 141.048\n",
      "Epoch 5 : Learning rate: 1.000\n",
      "Itr 10 of 774, perplexity: 126.121 speed: 5593 wps\n",
      "Itr 87 of 774, perplexity: 108.219 speed: 5726 wps\n",
      "Itr 164 of 774, perplexity: 106.981 speed: 5662 wps\n",
      "Itr 241 of 774, perplexity: 104.549 speed: 5699 wps\n",
      "Itr 318 of 774, perplexity: 105.341 speed: 5717 wps\n",
      "Itr 395 of 774, perplexity: 103.882 speed: 5725 wps\n",
      "Itr 472 of 774, perplexity: 103.412 speed: 5733 wps\n",
      "Itr 549 of 774, perplexity: 101.221 speed: 5737 wps\n",
      "Itr 626 of 774, perplexity: 99.704 speed: 5743 wps\n",
      "Itr 703 of 774, perplexity: 98.942 speed: 5728 wps\n",
      "Epoch 5 : Train Perplexity: 98.663\n",
      "Epoch 5 : Valid Perplexity: 134.739\n",
      "Epoch 6 : Learning rate: 0.500\n",
      "Itr 10 of 774, perplexity: 109.195 speed: 5640 wps\n",
      "Itr 87 of 774, perplexity: 92.575 speed: 5760 wps\n",
      "Itr 164 of 774, perplexity: 90.847 speed: 5761 wps\n",
      "Itr 241 of 774, perplexity: 88.107 speed: 5765 wps\n",
      "Itr 318 of 774, perplexity: 88.341 speed: 5770 wps\n",
      "Itr 395 of 774, perplexity: 86.533 speed: 5778 wps\n",
      "Itr 472 of 774, perplexity: 85.795 speed: 5764 wps\n",
      "Itr 549 of 774, perplexity: 83.442 speed: 5763 wps\n",
      "Itr 626 of 774, perplexity: 81.795 speed: 5771 wps\n",
      "Itr 703 of 774, perplexity: 80.765 speed: 5777 wps\n",
      "Epoch 6 : Train Perplexity: 80.198\n",
      "Epoch 6 : Valid Perplexity: 126.143\n",
      "Epoch 7 : Learning rate: 0.250\n",
      "Itr 10 of 774, perplexity: 95.630 speed: 5723 wps\n",
      "Itr 87 of 774, perplexity: 81.759 speed: 5848 wps\n",
      "Itr 164 of 774, perplexity: 80.347 speed: 5863 wps\n",
      "Itr 241 of 774, perplexity: 77.879 speed: 5868 wps\n",
      "Itr 318 of 774, perplexity: 78.108 speed: 5828 wps\n",
      "Itr 395 of 774, perplexity: 76.410 speed: 5841 wps\n",
      "Itr 472 of 774, perplexity: 75.699 speed: 5850 wps\n",
      "Itr 549 of 774, perplexity: 73.507 speed: 5855 wps\n",
      "Itr 626 of 774, perplexity: 71.934 speed: 5860 wps\n",
      "Itr 703 of 774, perplexity: 70.880 speed: 5865 wps\n",
      "Epoch 7 : Train Perplexity: 70.253\n",
      "Epoch 7 : Valid Perplexity: 123.829\n",
      "Epoch 8 : Learning rate: 0.125\n",
      "Itr 10 of 774, perplexity: 87.935 speed: 5742 wps\n",
      "Itr 87 of 774, perplexity: 75.714 speed: 5857 wps\n",
      "Itr 164 of 774, perplexity: 74.450 speed: 5869 wps\n",
      "Itr 241 of 774, perplexity: 72.201 speed: 5877 wps\n",
      "Itr 318 of 774, perplexity: 72.448 speed: 5868 wps\n",
      "Itr 395 of 774, perplexity: 70.832 speed: 5870 wps\n",
      "Itr 472 of 774, perplexity: 70.148 speed: 5876 wps\n",
      "Itr 549 of 774, perplexity: 68.073 speed: 5877 wps\n",
      "Itr 626 of 774, perplexity: 66.555 speed: 5879 wps\n",
      "Itr 703 of 774, perplexity: 65.507 speed: 5860 wps\n",
      "Epoch 8 : Train Perplexity: 64.867\n",
      "Epoch 8 : Valid Perplexity: 122.790\n",
      "Epoch 9 : Learning rate: 0.062\n",
      "Itr 10 of 774, perplexity: 83.849 speed: 5766 wps\n",
      "Itr 87 of 774, perplexity: 72.333 speed: 5790 wps\n",
      "Itr 164 of 774, perplexity: 71.157 speed: 5842 wps\n",
      "Itr 241 of 774, perplexity: 69.033 speed: 5869 wps\n",
      "Itr 318 of 774, perplexity: 69.303 speed: 5878 wps\n",
      "Itr 395 of 774, perplexity: 67.753 speed: 5888 wps\n",
      "Itr 472 of 774, perplexity: 67.089 speed: 5860 wps\n",
      "Itr 549 of 774, perplexity: 65.096 speed: 5867 wps\n",
      "Itr 626 of 774, perplexity: 63.617 speed: 5870 wps\n",
      "Itr 703 of 774, perplexity: 62.585 speed: 5872 wps\n",
      "Epoch 9 : Train Perplexity: 61.951\n",
      "Epoch 9 : Valid Perplexity: 122.131\n",
      "Epoch 10 : Learning rate: 0.031\n",
      "Itr 10 of 774, perplexity: 81.599 speed: 5776 wps\n",
      "Itr 87 of 774, perplexity: 70.492 speed: 5685 wps\n",
      "Itr 164 of 774, perplexity: 69.348 speed: 5518 wps\n",
      "Itr 241 of 774, perplexity: 67.290 speed: 5415 wps\n",
      "Itr 318 of 774, perplexity: 67.567 speed: 5399 wps\n",
      "Itr 395 of 774, perplexity: 66.060 speed: 5390 wps\n",
      "Itr 472 of 774, perplexity: 65.411 speed: 5385 wps\n",
      "Itr 549 of 774, perplexity: 63.466 speed: 5381 wps\n",
      "Itr 626 of 774, perplexity: 62.012 speed: 5404 wps\n",
      "Itr 703 of 774, perplexity: 60.993 speed: 5441 wps\n",
      "Epoch 10 : Train Perplexity: 60.365\n",
      "Epoch 10 : Valid Perplexity: 121.747\n",
      "Epoch 11 : Learning rate: 0.016\n",
      "Itr 10 of 774, perplexity: 80.370 speed: 5781 wps\n",
      "Itr 87 of 774, perplexity: 69.475 speed: 5735 wps\n",
      "Itr 164 of 774, perplexity: 68.363 speed: 5556 wps\n",
      "Itr 241 of 774, perplexity: 66.340 speed: 5492 wps\n",
      "Itr 318 of 774, perplexity: 66.617 speed: 5279 wps\n",
      "Itr 395 of 774, perplexity: 65.135 speed: 4636 wps\n",
      "Itr 472 of 774, perplexity: 64.496 speed: 4268 wps\n",
      "Itr 549 of 774, perplexity: 62.578 speed: 4047 wps\n",
      "Itr 626 of 774, perplexity: 61.137 speed: 3885 wps\n",
      "Itr 703 of 774, perplexity: 60.124 speed: 3767 wps\n",
      "Epoch 11 : Train Perplexity: 59.500\n",
      "Epoch 11 : Valid Perplexity: 121.548\n",
      "Epoch 12 : Learning rate: 0.008\n",
      "Itr 10 of 774, perplexity: 79.672 speed: 3025 wps\n",
      "Itr 87 of 774, perplexity: 68.902 speed: 2932 wps\n",
      "Itr 164 of 774, perplexity: 67.828 speed: 2943 wps\n",
      "Itr 241 of 774, perplexity: 65.826 speed: 2949 wps\n",
      "Itr 318 of 774, perplexity: 66.100 speed: 2944 wps\n",
      "Itr 395 of 774, perplexity: 64.628 speed: 2953 wps\n",
      "Itr 472 of 774, perplexity: 63.997 speed: 2975 wps\n",
      "Itr 549 of 774, perplexity: 62.092 speed: 2985 wps\n",
      "Itr 626 of 774, perplexity: 60.657 speed: 3009 wps\n",
      "Itr 703 of 774, perplexity: 59.649 speed: 3175 wps\n",
      "Epoch 12 : Train Perplexity: 59.025\n",
      "Epoch 12 : Valid Perplexity: 121.389\n",
      "Epoch 13 : Learning rate: 0.004\n",
      "Itr 10 of 774, perplexity: 79.250 speed: 2963 wps\n",
      "Itr 87 of 774, perplexity: 68.579 speed: 3039 wps\n",
      "Itr 164 of 774, perplexity: 67.532 speed: 3057 wps\n",
      "Itr 241 of 774, perplexity: 65.549 speed: 3094 wps\n",
      "Itr 318 of 774, perplexity: 65.821 speed: 3112 wps\n",
      "Itr 395 of 774, perplexity: 64.353 speed: 3092 wps\n",
      "Itr 472 of 774, perplexity: 63.725 speed: 3084 wps\n",
      "Itr 549 of 774, perplexity: 61.829 speed: 3069 wps\n",
      "Itr 626 of 774, perplexity: 60.398 speed: 3074 wps\n",
      "Itr 703 of 774, perplexity: 59.392 speed: 3081 wps\n",
      "Epoch 13 : Train Perplexity: 58.768\n",
      "Epoch 13 : Valid Perplexity: 121.256\n",
      "Epoch 14 : Learning rate: 0.002\n",
      "Itr 10 of 774, perplexity: 79.007 speed: 3015 wps\n",
      "Itr 87 of 774, perplexity: 68.403 speed: 3134 wps\n",
      "Itr 164 of 774, perplexity: 67.365 speed: 3122 wps\n",
      "Itr 241 of 774, perplexity: 65.396 speed: 3143 wps\n",
      "Itr 318 of 774, perplexity: 65.671 speed: 3392 wps\n",
      "Itr 395 of 774, perplexity: 64.204 speed: 3703 wps\n",
      "Itr 472 of 774, perplexity: 63.579 speed: 3946 wps\n",
      "Itr 549 of 774, perplexity: 61.688 speed: 4134 wps\n",
      "Itr 626 of 774, perplexity: 60.258 speed: 4296 wps\n",
      "Itr 703 of 774, perplexity: 59.254 speed: 4431 wps\n",
      "Epoch 14 : Train Perplexity: 58.631\n",
      "Epoch 14 : Valid Perplexity: 121.159\n",
      "Epoch 15 : Learning rate: 0.001\n",
      "Itr 10 of 774, perplexity: 78.877 speed: 5846 wps\n",
      "Itr 87 of 774, perplexity: 68.306 speed: 5940 wps\n",
      "Itr 164 of 774, perplexity: 67.272 speed: 5951 wps\n",
      "Itr 241 of 774, perplexity: 65.312 speed: 5957 wps\n",
      "Itr 318 of 774, perplexity: 65.589 speed: 5958 wps\n",
      "Itr 395 of 774, perplexity: 64.124 speed: 5960 wps\n",
      "Itr 472 of 774, perplexity: 63.500 speed: 5961 wps\n",
      "Itr 549 of 774, perplexity: 61.613 speed: 5958 wps\n",
      "Itr 626 of 774, perplexity: 60.184 speed: 5938 wps\n",
      "Itr 703 of 774, perplexity: 59.181 speed: 5939 wps\n",
      "Epoch 15 : Train Perplexity: 58.559\n",
      "Epoch 15 : Valid Perplexity: 121.099\n",
      "Test Perplexity: 117.178\n"
     ]
    }
   ],
   "source": [
    "# Initializes the Execution Graph and the Session\n",
    "with tf.Graph().as_default(), tf.Session() as session:\n",
    "    initializer = tf.random_uniform_initializer(-init_scale, init_scale)\n",
    "    \n",
    "    # Instantiates the model for training\n",
    "    # tf.variable_scope add a prefix to the variables created with tf.get_variable\n",
    "    with tf.variable_scope(\"model\", reuse=None, initializer=initializer):\n",
    "        m = PTBModel(\"is_training\")\n",
    "        \n",
    "    # Reuses the trained parameters for the validation and testing models\n",
    "    # They are different instances but use the same variables for weights and biases, they just don't change when data is input\n",
    "    with tf.variable_scope(\"model\", reuse=True, initializer=initializer):\n",
    "        mvalid = PTBModel(\"is_validating\")\n",
    "        mtest = PTBModel(\"is_testing\")\n",
    "\n",
    "    #Initialize all variables\n",
    "    tf.global_variables_initializer().run()\n",
    "\n",
    "    for i in range(max_epoch):\n",
    "        # Define the decay for this epoch\n",
    "        lr_decay = decay ** max(i - max_epoch_decay_lr, 0.0)\n",
    "        \n",
    "        # Set the decayed learning rate as the learning rate for this epoch\n",
    "        m.assign_lr(session, learning_rate * lr_decay)\n",
    "\n",
    "        print(\"Epoch %d : Learning rate: %.3f\" % (i + 1, session.run(m.lr)))\n",
    "        \n",
    "        # Run the loop for this epoch in the training model\n",
    "        train_perplexity = run_one_epoch(session, m, train_data, m.train_op, verbose=True)\n",
    "        print(\"Epoch %d : Train Perplexity: %.3f\" % (i + 1, train_perplexity))\n",
    "        \n",
    "        # Run the loop for this epoch in the validation model\n",
    "        valid_perplexity = run_one_epoch(session, mvalid, valid_data, tf.no_op())\n",
    "        print(\"Epoch %d : Valid Perplexity: %.3f\" % (i + 1, valid_perplexity))\n",
    "    \n",
    "    # Run the loop in the testing model to see how effective was our training\n",
    "    test_perplexity = run_one_epoch(session, mtest, test_data, tf.no_op())\n",
    "    \n",
    "    print(\"Test Perplexity: %.3f\" % test_perplexity)"
   ]
  },
  {
   "cell_type": "markdown",
   "metadata": {
    "button": false,
    "deletable": true,
    "new_sheet": false,
    "run_control": {
     "read_only": false
    }
   },
   "source": [
    "As you can see, the model's perplexity rating drops very quickly after a few iterations. As was elaborated before, <b>lower Perplexity means that the model is more certain about its prediction</b>. As such, we can be sure that this model is performing well!"
   ]
  },
  {
   "cell_type": "markdown",
   "metadata": {
    "button": false,
    "deletable": true,
    "new_sheet": false,
    "run_control": {
     "read_only": false
    }
   },
   "source": [
    "-------"
   ]
  },
  {
   "cell_type": "markdown",
   "metadata": {
    "button": false,
    "deletable": true,
    "new_sheet": false,
    "run_control": {
     "read_only": false
    }
   },
   "source": [
    "This is the end of the <b>Applying Recurrent Neural Networks to Text Processing</b> notebook. Hopefully you now have a better understanding of Recurrent Neural Networks and how to implement one utilizing TensorFlow. Thank you for reading this notebook, and good luck on your studies."
   ]
  },
  {
   "cell_type": "markdown",
   "metadata": {
    "button": false,
    "deletable": true,
    "new_sheet": false,
    "run_control": {
     "read_only": false
    }
   },
   "source": [
    "## Want to learn more?\n",
    "\n",
    "Running deep learning programs usually needs a high performance platform. __PowerAI__ speeds up deep learning and AI. Built on IBM’s Power Systems, __PowerAI__ is a scalable software platform that accelerates deep learning and AI with blazing performance for individual users or enterprises. The __PowerAI__ platform supports popular machine learning libraries and dependencies including TensorFlow, Caffe, Torch, and Theano. You can use [PowerAI on IMB Cloud](https://cocl.us/ML0120EN_PAI).\n",
    "\n",
    "Also, you can use __Watson Studio__ to run these notebooks faster with bigger datasets.__Watson Studio__ is IBM’s leading cloud solution for data scientists, built by data scientists. With Jupyter notebooks, RStudio, Apache Spark and popular libraries pre-packaged in the cloud, __Watson Studio__ enables data scientists to collaborate on their projects without having to install anything. Join the fast-growing community of __Watson Studio__ users today with a free account at [Watson Studio](https://cocl.us/ML0120EN_DSX).This is the end of this lesson. Thank you for reading this notebook, and good luck on your studies."
   ]
  },
  {
   "cell_type": "markdown",
   "metadata": {
    "button": false,
    "deletable": true,
    "new_sheet": false,
    "run_control": {
     "read_only": false
    }
   },
   "source": [
    "### Thanks for completing this lesson!\n",
    "\n",
    "Notebook created by <a href=\"https://br.linkedin.com/in/walter-gomes-de-amorim-junior-624726121\">Walter Gomes de Amorim Junior</a>, <a href = \"https://linkedin.com/in/saeedaghabozorgi\"> Saeed Aghabozorgi </a></h4>"
   ]
  },
  {
   "cell_type": "markdown",
   "metadata": {
    "button": false,
    "deletable": true,
    "new_sheet": false,
    "run_control": {
     "read_only": false
    }
   },
   "source": [
    "<hr>\n",
    "\n",
    "Copyright &copy; 2018 [Cognitive Class](https://cocl.us/DX0108EN_CC). This notebook and its source code are released under the terms of the [MIT License](https://bigdatauniversity.com/mit-license/)."
   ]
  }
 ],
 "metadata": {
  "anaconda-cloud": {},
  "kernelspec": {
   "display_name": "Python 3",
   "language": "python",
   "name": "python3"
  },
  "language_info": {
   "codemirror_mode": {
    "name": "ipython",
    "version": 3
   },
   "file_extension": ".py",
   "mimetype": "text/x-python",
   "name": "python",
   "nbconvert_exporter": "python",
   "pygments_lexer": "ipython3",
   "version": "3.6.6"
  },
  "widgets": {
   "state": {},
   "version": "1.1.2"
  }
 },
 "nbformat": 4,
 "nbformat_minor": 2
}
